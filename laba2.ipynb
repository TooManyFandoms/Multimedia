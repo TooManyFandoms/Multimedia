{
  "nbformat": 4,
  "nbformat_minor": 0,
  "metadata": {
    "colab": {
      "provenance": []
    },
    "kernelspec": {
      "name": "python3",
      "display_name": "Python 3"
    },
    "language_info": {
      "name": "python"
    }
  },
  "cells": [
    {
      "cell_type": "markdown",
      "source": [
        "##Логистическая регрессия"
      ],
      "metadata": {
        "id": "57h3d14bljPe"
      }
    },
    {
      "cell_type": "code",
      "execution_count": 2,
      "metadata": {
        "id": "MdPdKkKRzy7t",
        "colab": {
          "base_uri": "https://localhost:8080/"
        },
        "outputId": "f89f430c-5efb-4716-93c3-0a0a99496b60"
      },
      "outputs": [
        {
          "output_type": "stream",
          "name": "stdout",
          "text": [
            "Warning: Looks like you're using an outdated `kagglehub` version (installed: 0.3.5), please consider upgrading to the latest version (0.3.6).\n",
            "Downloading from https://www.kaggle.com/api/v1/datasets/download/gkalpolukcu/knn-algorithm-dataset?dataset_version_number=1...\n"
          ]
        },
        {
          "output_type": "stream",
          "name": "stderr",
          "text": [
            "100%|██████████| 48.7k/48.7k [00:00<00:00, 35.6MB/s]"
          ]
        },
        {
          "output_type": "stream",
          "name": "stdout",
          "text": [
            "Extracting files...\n",
            "Path to dataset files: /root/.cache/kagglehub/datasets/gkalpolukcu/knn-algorithm-dataset/versions/1\n"
          ]
        },
        {
          "output_type": "stream",
          "name": "stderr",
          "text": [
            "\n"
          ]
        }
      ],
      "source": [
        "import kagglehub\n",
        "\n",
        "# Download latest version\n",
        "path = kagglehub.dataset_download(\"gkalpolukcu/knn-algorithm-dataset\")\n",
        "\n",
        "print(\"Path to dataset files:\", path)"
      ]
    },
    {
      "cell_type": "code",
      "source": [
        "import pandas as pd\n",
        "\n",
        "data = pd.read_csv('/root/.cache/kagglehub/datasets/gkalpolukcu/knn-algorithm-dataset/versions/1/KNNAlgorithmDataset.csv')\n",
        "data = data.drop(['id','Unnamed: 32'],axis=1)"
      ],
      "metadata": {
        "id": "iRxa3RqgrwJn"
      },
      "execution_count": 3,
      "outputs": []
    },
    {
      "cell_type": "code",
      "source": [
        "import numpy as np\n",
        "import pandas as pd\n",
        "import matplotlib.pyplot as plt\n",
        "import seaborn as sns\n",
        "from sklearn.preprocessing import StandardScaler\n",
        "from sklearn.model_selection import train_test_split, GridSearchCV\n",
        "from sklearn.linear_model import LogisticRegression\n",
        "from sklearn.metrics import confusion_matrix, classification_report, roc_auc_score, roc_curve\n",
        "from sklearn.pipeline import Pipeline\n",
        "\n",
        "X = data.drop('diagnosis', axis=1)\n",
        "y = data['diagnosis']\n",
        "\n",
        "X_train, X_test, y_train, y_test = train_test_split(X, y, test_size=0.25, random_state=101)\n",
        "\n",
        "scaler = StandardScaler()\n",
        "logistic_model = LogisticRegression()\n",
        "pipl = Pipeline([('scaler', scaler), ('logistic_model', logistic_model)])\n",
        "\n",
        "param_grid = {'logistic_model__C': [0.001, 0.01, 0.1, 1, 10, 100]}\n",
        "final_model = GridSearchCV(estimator=pipl, param_grid=param_grid, cv=5, scoring='accuracy')\n",
        "final_model.fit(X_train, y_train)\n",
        "\n",
        "\n",
        "y_pred = final_model.predict(X_test)\n",
        "\n",
        "print(confusion_matrix(y_test, y_pred))\n",
        "print(classification_report(y_test, y_pred))\n",
        "roc_auc = roc_auc_score(y_test, final_model.predict_proba(X_test)[:, 1])\n",
        "print(f'ROC AUC Score: {roc_auc}')\n",
        "\n",
        "sns.heatmap(confusion_matrix(y_test, y_pred), annot=True, cmap='viridis')\n",
        "plt.title('Confusion Matrix')\n",
        "plt.xlabel('Predicted')\n",
        "plt.ylabel('Actual')\n",
        "plt.show()\n"
      ],
      "metadata": {
        "colab": {
          "base_uri": "https://localhost:8080/",
          "height": 680
        },
        "id": "6MGcUZY-s9aW",
        "outputId": "d64b3618-8c28-4311-c2e2-847496abec5a"
      },
      "execution_count": 6,
      "outputs": [
        {
          "output_type": "stream",
          "name": "stdout",
          "text": [
            "[[84  4]\n",
            " [ 2 53]]\n",
            "              precision    recall  f1-score   support\n",
            "\n",
            "           B       0.98      0.95      0.97        88\n",
            "           M       0.93      0.96      0.95        55\n",
            "\n",
            "    accuracy                           0.96       143\n",
            "   macro avg       0.95      0.96      0.96       143\n",
            "weighted avg       0.96      0.96      0.96       143\n",
            "\n",
            "ROC AUC Score: 0.9873966942148761\n"
          ]
        },
        {
          "output_type": "display_data",
          "data": {
            "text/plain": [
              "<Figure size 640x480 with 2 Axes>"
            ],
            "image/png": "[encoded data removed]"
          },
          "metadata": {}
        }
      ]
    },
    {
      "cell_type": "markdown",
      "source": [
        "###Улучшенный бейзлайн"
      ],
      "metadata": {
        "id": "fISV9kMvu71D"
      }
    },
    {
      "cell_type": "markdown",
      "source": [
        "Для улучшения бейзлайна используется весь набор признаков, сокращен диапазон значений для C до [0.01, 0.1, 1, 10, 100], использованы 5 фолдов в кросс-валидации."
      ],
      "metadata": {
        "id": "DhBncvScujyW"
      }
    },
    {
      "cell_type": "code",
      "source": [
        "import numpy as np\n",
        "import pandas as pd\n",
        "import matplotlib.pyplot as plt\n",
        "import seaborn as sns\n",
        "from sklearn.preprocessing import StandardScaler, OneHotEncoder\n",
        "from sklearn.model_selection import train_test_split, GridSearchCV\n",
        "from sklearn.linear_model import LogisticRegression\n",
        "from sklearn.metrics import confusion_matrix, classification_report, roc_auc_score, roc_curve\n",
        "from sklearn.compose import ColumnTransformer\n",
        "from sklearn.pipeline import Pipeline\n",
        "\n",
        "data = pd.read_csv('/root/.cache/kagglehub/datasets/gkalpolukcu/knn-algorithm-dataset/versions/1/KNNAlgorithmDataset.csv')\n",
        "data = data.drop(['id', 'Unnamed: 32'], axis=1)\n",
        "\n",
        "X = data.drop('diagnosis', axis=1)\n",
        "y = data['diagnosis']\n",
        "\n",
        "\n",
        "X.fillna(X.mean(), inplace=True)\n",
        "\n",
        "categorical_cols = X.select_dtypes(include=['object']).columns.tolist()\n",
        "numerical_cols = X.select_dtypes(exclude=['object']).columns.tolist()\n",
        "\n",
        "preprocessor = ColumnTransformer(\n",
        "    transformers=[\n",
        "        ('num', StandardScaler(), numerical_cols),\n",
        "        ('cat', OneHotEncoder(), categorical_cols)\n",
        "    ])\n",
        "\n",
        "logistic_model = LogisticRegression(solver='liblinear')\n",
        "pipeline = Pipeline(steps=[('preprocessor', preprocessor),\n",
        "                            ('logistic_model', logistic_model)])\n",
        "\n",
        "X_train, X_test, y_train, y_test = train_test_split(X, y, test_size=0.25, random_state=101)\n",
        "\n",
        "param_grid = {\n",
        "    'logistic_model__C': [0.01, 0.1, 1, 10, 100],\n",
        "    'logistic_model__penalty': ['l1', 'l2']\n",
        "}\n",
        "\n",
        "final_model = GridSearchCV(estimator=pipeline, param_grid=param_grid, cv=5, scoring='accuracy')\n",
        "final_model.fit(X_train, y_train)\n",
        "\n",
        "y_pred = final_model.predict(X_test)\n",
        "\n",
        "print(confusion_matrix(y_test, y_pred))\n",
        "print(classification_report(y_test, y_pred))\n",
        "roc_auc = roc_auc_score(y_test, final_model.predict_proba(X_test)[:, 1])\n",
        "print(f'ROC AUC Score: {roc_auc}')\n",
        "\n",
        "sns.heatmap(confusion_matrix(y_test, y_pred), annot=True, cmap='viridis')\n",
        "plt.title('Confusion Matrix')\n",
        "plt.xlabel('Predicted')\n",
        "plt.ylabel('Actual')\n",
        "plt.show()"
      ],
      "metadata": {
        "colab": {
          "base_uri": "https://localhost:8080/",
          "height": 680
        },
        "id": "eIwlcHLJtifV",
        "outputId": "94ff4013-f525-4a1f-9f5e-40cbcbec2e3b"
      },
      "execution_count": 10,
      "outputs": [
        {
          "output_type": "stream",
          "name": "stdout",
          "text": [
            "[[84  4]\n",
            " [ 2 53]]\n",
            "              precision    recall  f1-score   support\n",
            "\n",
            "           B       0.98      0.95      0.97        88\n",
            "           M       0.93      0.96      0.95        55\n",
            "\n",
            "    accuracy                           0.96       143\n",
            "   macro avg       0.95      0.96      0.96       143\n",
            "weighted avg       0.96      0.96      0.96       143\n",
            "\n",
            "ROC AUC Score: 0.9878099173553719\n"
          ]
        },
        {
          "output_type": "display_data",
          "data": {
            "text/plain": [
              "<Figure size 640x480 with 2 Axes>"
            ],
            "image/png": "[encoded data removed]"
          },
          "metadata": {}
        }
      ]
    },
    {
      "cell_type": "markdown",
      "source": [
        "Даже если не изменилась точность, то возрасла площадь под кривой, что тоже хороший показатель"
      ],
      "metadata": {
        "id": "hdcidKRPu_9X"
      }
    },
    {
      "cell_type": "markdown",
      "source": [
        "##Линейная регрессия"
      ],
      "metadata": {
        "id": "laH_ir54yziB"
      }
    },
    {
      "cell_type": "code",
      "source": [
        "import kagglehub\n",
        "\n",
        "# Download latest version\n",
        "path = kagglehub.dataset_download(\"thedevastator/netflix-imdb-scores\")\n",
        "\n",
        "print(\"Path to dataset files:\", path)"
      ],
      "metadata": {
        "colab": {
          "base_uri": "https://localhost:8080/"
        },
        "id": "edtRBkW1y4Co",
        "outputId": "0a89e856-0976-485d-c185-f8dd28e454e5"
      },
      "execution_count": 11,
      "outputs": [
        {
          "output_type": "stream",
          "name": "stdout",
          "text": [
            "Warning: Looks like you're using an outdated `kagglehub` version (installed: 0.3.5), please consider upgrading to the latest version (0.3.6).\n",
            "Downloading from https://www.kaggle.com/api/v1/datasets/download/thedevastator/netflix-imdb-scores?dataset_version_number=2...\n"
          ]
        },
        {
          "output_type": "stream",
          "name": "stderr",
          "text": [
            "100%|██████████| 699k/699k [00:00<00:00, 55.2MB/s]"
          ]
        },
        {
          "output_type": "stream",
          "name": "stdout",
          "text": [
            "Extracting files...\n",
            "Path to dataset files: /root/.cache/kagglehub/datasets/thedevastator/netflix-imdb-scores/versions/2\n"
          ]
        },
        {
          "output_type": "stream",
          "name": "stderr",
          "text": [
            "\n"
          ]
        }
      ]
    },
    {
      "cell_type": "code",
      "source": [
        "import pandas as pd\n",
        "from sklearn.model_selection import train_test_split\n",
        "from sklearn.metrics import mean_squared_error, mean_absolute_error, r2_score\n",
        "\n",
        "data = pd.read_csv('/root/.cache/kagglehub/datasets/thedevastator/netflix-imdb-scores/versions/2/Netflix TV Shows and Movies.csv')\n",
        "\n",
        "data['imdb_votes'] = data['imdb_votes'].fillna(data['imdb_votes'].mean())\n",
        "data['age_certification'] = data['age_certification'].fillna(data['age_certification'].mode()[0])"
      ],
      "metadata": {
        "id": "yTGEAVbty9j-"
      },
      "execution_count": 13,
      "outputs": []
    },
    {
      "cell_type": "code",
      "source": [
        "from sklearn.linear_model import LinearRegression\n",
        "\n",
        "\n",
        "X = data[['release_year', 'runtime', 'imdb_votes']]\n",
        "y = data['imdb_score']\n",
        "\n",
        "\n",
        "X_train, X_test, y_train, y_test = train_test_split(X, y, test_size=0.2, random_state=42)\n",
        "\n",
        "\n",
        "linear_reg = LinearRegression()\n",
        "linear_reg.fit(X_train, y_train)\n",
        "\n",
        "y_pred = linear_reg.predict(X_test)\n",
        "\n",
        "mse = mean_squared_error(y_test, y_pred)\n",
        "mae = mean_absolute_error(y_test, y_pred)\n",
        "r2 = r2_score(y_test, y_pred)\n",
        "\n",
        "print(f'Mean Squared Error: {mse}')\n",
        "print(f'Mean Absolute Error: {mae}')\n",
        "print(f'R² Score: {r2}')\n"
      ],
      "metadata": {
        "colab": {
          "base_uri": "https://localhost:8080/"
        },
        "id": "lry___UizdiL",
        "outputId": "01f6f94c-f0b3-42bd-925e-b0b0c4ba28c0"
      },
      "execution_count": 14,
      "outputs": [
        {
          "output_type": "stream",
          "name": "stdout",
          "text": [
            "Mean Squared Error: 1.3134812280266586\n",
            "Mean Absolute Error: 0.8866432250687594\n",
            "R² Score: 0.07757997065351963\n"
          ]
        }
      ]
    },
    {
      "cell_type": "markdown",
      "source": [
        "###Улучшеный бейзлайн"
      ],
      "metadata": {
        "id": "loEXie_t1X5A"
      }
    },
    {
      "cell_type": "markdown",
      "source": [
        "Для улучшения результатов производится стандартизация признаков перед полиномиальной трансформацией, используется GridSearchCV для поиска лучшего значения alpha"
      ],
      "metadata": {
        "id": "ns4CJSoi1NEn"
      }
    },
    {
      "cell_type": "code",
      "source": [
        "import pandas as pd\n",
        "import numpy as np\n",
        "from sklearn.model_selection import train_test_split, cross_val_score, GridSearchCV\n",
        "from sklearn.preprocessing import PolynomialFeatures, StandardScaler\n",
        "from sklearn.linear_model import Ridge\n",
        "from sklearn.metrics import mean_squared_error, mean_absolute_error, r2_score\n",
        "import matplotlib.pyplot as plt\n",
        "import seaborn as sns\n",
        "\n",
        "data = pd.read_csv('/root/.cache/kagglehub/datasets/thedevastator/netflix-imdb-scores/versions/2/Netflix TV Shows and Movies.csv')\n",
        "\n",
        "\n",
        "data['imdb_votes'] = data['imdb_votes'].fillna(data['imdb_votes'].mean())\n",
        "data['age_certification'] = data['age_certification'].fillna(data['age_certification'].mode()[0])\n",
        "\n",
        "X = data[['release_year', 'runtime', 'imdb_votes', 'type', 'age_certification']]\n",
        "y = data['imdb_score']\n",
        "\n",
        "X_encoded = pd.get_dummies(X, columns=['type', 'age_certification'])\n",
        "\n",
        "scaler = StandardScaler()\n",
        "X_scaled = scaler.fit_transform(X_encoded)\n",
        "\n",
        "poly = PolynomialFeatures(degree=2, include_bias=False)\n",
        "X_poly = poly.fit_transform(X_scaled)\n",
        "\n",
        "X_train, X_test, y_train, y_test = train_test_split(X_poly, y, test_size=0.2, random_state=42)\n",
        "\n",
        "ridge_reg = Ridge()\n",
        "param_grid = {'alpha': np.logspace(-3, 3, 7)}\n",
        "grid_search = GridSearchCV(ridge_reg, param_grid, cv=5)\n",
        "grid_search.fit(X_train, y_train)\n",
        "\n",
        "y_pred = grid_search.predict(X_test)\n",
        "\n",
        "mse = mean_squared_error(y_test, y_pred)\n",
        "mae = mean_absolute_error(y_test, y_pred)\n",
        "r2 = r2_score(y_test, y_pred)\n",
        "\n",
        "print(f'Mean Squared Error: {mse}')\n",
        "print(f'Mean Absolute Error: {mae}')\n",
        "print(f'R² Score: {r2}')\n"
      ],
      "metadata": {
        "colab": {
          "base_uri": "https://localhost:8080/"
        },
        "id": "2VIr73NYzypQ",
        "outputId": "6dc6b916-d412-49ea-9991-24758cd5f2cd"
      },
      "execution_count": 22,
      "outputs": [
        {
          "output_type": "stream",
          "name": "stdout",
          "text": [
            "Mean Squared Error: 1.167812833199352\n",
            "Mean Absolute Error: 0.8119585675791519\n",
            "R² Score: 0.1798786881108898\n"
          ]
        }
      ]
    },
    {
      "cell_type": "markdown",
      "source": [
        "Показания метрик улучшились, но все еще не являются очень высокими"
      ],
      "metadata": {
        "id": "1nUM_tNi7leM"
      }
    },
    {
      "cell_type": "markdown",
      "source": [
        "##Самостоятельная реализация"
      ],
      "metadata": {
        "id": "V5LthjWf46bh"
      }
    },
    {
      "cell_type": "code",
      "source": [
        "import numpy as np\n",
        "import pandas as pd\n",
        "import matplotlib.pyplot as plt\n",
        "import seaborn as sns\n",
        "from sklearn.model_selection import train_test_split\n",
        "from sklearn.metrics import confusion_matrix, classification_report, roc_auc_score, roc_curve\n",
        "\n",
        "data = pd.read_csv('/root/.cache/kagglehub/datasets/gkalpolukcu/knn-algorithm-dataset/versions/1/KNNAlgorithmDataset.csv')\n",
        "data = data.drop(['id', 'Unnamed: 32'], axis=1)\n",
        "X = data.drop('diagnosis', axis=1).values\n",
        "y = (data['diagnosis'] == 'M').astype(int).values\n",
        "\n",
        "X_train, X_test, y_train, y_test = train_test_split(X, y, test_size=0.25, random_state=101)\n",
        "\n",
        "def standardize(X):\n",
        "    return (X - np.mean(X, axis=0)) / np.std(X, axis=0)\n",
        "\n",
        "X_train_scaled = standardize(X_train)\n",
        "X_test_scaled = standardize(X_test)\n",
        "\n",
        "class LogisticRegression:\n",
        "    def __init__(self, learning_rate=0.01, n_iterations=1000):\n",
        "        self.learning_rate = learning_rate\n",
        "        self.n_iterations = n_iterations\n",
        "        self.weights = None\n",
        "        self.bias = None\n",
        "\n",
        "    def sigmoid(self, z):\n",
        "        return 1 / (1 + np.exp(-z))\n",
        "\n",
        "    def fit(self, X, y):\n",
        "        n_samples, n_features = X.shape\n",
        "        self.weights = np.zeros(n_features)\n",
        "        self.bias = 0\n",
        "\n",
        "        for _ in range(self.n_iterations):\n",
        "            linear_model = np.dot(X, self.weights) + self.bias\n",
        "            y_predicted = self.sigmoid(linear_model)\n",
        "\n",
        "            dw = (1 / n_samples) * np.dot(X.T, (y_predicted - y))\n",
        "            db = (1 / n_samples) * np.sum(y_predicted - y)\n",
        "\n",
        "            self.weights -= self.learning_rate * dw\n",
        "            self.bias -= self.learning_rate * db\n",
        "\n",
        "    def predict(self, X):\n",
        "        linear_model = np.dot(X, self.weights) + self.bias\n",
        "        y_predicted = self.sigmoid(linear_model)\n",
        "        return np.where(y_predicted >= 0.5, 1, 0)\n",
        "\n",
        "model = LogisticRegression(learning_rate=0.01, n_iterations=1000)\n",
        "model.fit(X_train_scaled, y_train)\n",
        "\n",
        "y_pred = model.predict(X_test_scaled)\n",
        "\n",
        "print(confusion_matrix(y_test, y_pred))\n",
        "print(classification_report(y_test, y_pred))\n",
        "roc_auc = roc_auc_score(y_test, model.sigmoid(np.dot(X_test_scaled, model.weights) + model.bias))\n",
        "print(f'ROC AUC Score: {roc_auc}')\n",
        "\n",
        "sns.heatmap(confusion_matrix(y_test, y_pred), annot=True, cmap='viridis')\n",
        "plt.title('Confusion Matrix')\n",
        "plt.xlabel('Predicted')\n",
        "plt.ylabel('Actual')\n",
        "plt.show()"
      ],
      "metadata": {
        "colab": {
          "base_uri": "https://localhost:8080/",
          "height": 680
        },
        "id": "0dmormiX1b7v",
        "outputId": "c72ced07-2636-4181-e836-3d456eb10ec5"
      },
      "execution_count": 24,
      "outputs": [
        {
          "output_type": "stream",
          "name": "stdout",
          "text": [
            "[[88  0]\n",
            " [ 4 51]]\n",
            "              precision    recall  f1-score   support\n",
            "\n",
            "           0       0.96      1.00      0.98        88\n",
            "           1       1.00      0.93      0.96        55\n",
            "\n",
            "    accuracy                           0.97       143\n",
            "   macro avg       0.98      0.96      0.97       143\n",
            "weighted avg       0.97      0.97      0.97       143\n",
            "\n",
            "ROC AUC Score: 1.0\n"
          ]
        },
        {
          "output_type": "display_data",
          "data": {
            "text/plain": [
              "<Figure size 640x480 with 2 Axes>"
            ],
            "image/png": "[encoded data removed]"
          },
          "metadata": {}
        }
      ]
    },
    {
      "cell_type": "markdown",
      "source": [
        "Вариант с улучшенным бейзлайном"
      ],
      "metadata": {
        "id": "-8tkL1bA4vGS"
      }
    },
    {
      "cell_type": "code",
      "source": [
        "import numpy as np\n",
        "import pandas as pd\n",
        "import matplotlib.pyplot as plt\n",
        "import seaborn as sns\n",
        "from sklearn.model_selection import train_test_split, KFold\n",
        "from sklearn.metrics import confusion_matrix, classification_report, roc_auc_score\n",
        "\n",
        "data = pd.read_csv('/root/.cache/kagglehub/datasets/gkalpolukcu/knn-algorithm-dataset/versions/1/KNNAlgorithmDataset.csv')\n",
        "data = data.drop(['id', 'Unnamed: 32'], axis=1)\n",
        "X = data.drop('diagnosis', axis=1).values\n",
        "y = (data['diagnosis'] == 'M').astype(int).values\n",
        "\n",
        "def standardize(X):\n",
        "    return (X - np.mean(X, axis=0)) / np.std(X, axis=0)\n",
        "\n",
        "X_scaled = standardize(X)\n",
        "\n",
        "class LogisticRegression:\n",
        "    def __init__(self, learning_rate=0.01, n_iterations=1000):\n",
        "        self.learning_rate = learning_rate\n",
        "        self.n_iterations = n_iterations\n",
        "        self.weights = None\n",
        "        self.bias = None\n",
        "\n",
        "    def sigmoid(self, z):\n",
        "        return 1 / (1 + np.exp(-z))\n",
        "\n",
        "    def fit(self, X, y):\n",
        "        n_samples, n_features = X.shape\n",
        "        self.weights = np.zeros(n_features)\n",
        "        self.bias = 0\n",
        "\n",
        "        for _ in range(self.n_iterations):\n",
        "            linear_model = np.dot(X, self.weights) + self.bias\n",
        "            y_predicted = self.sigmoid(linear_model)\n",
        "\n",
        "            dw = (1 / n_samples) * np.dot(X.T, (y_predicted - y))\n",
        "            db = (1 / n_samples) * np.sum(y_predicted - y)\n",
        "\n",
        "            self.weights -= self.learning_rate * dw\n",
        "            self.bias -= self.learning_rate * db\n",
        "\n",
        "    def predict(self, X):\n",
        "        linear_model = np.dot(X, self.weights) + self.bias\n",
        "        y_predicted = self.sigmoid(linear_model)\n",
        "        return np.where(y_predicted >= 0.5, 1, 0)\n",
        "\n",
        "def cross_validate(X, y, model_class, C_values, n_splits=5):\n",
        "    kf = KFold(n_splits=n_splits)\n",
        "    best_score = 0\n",
        "    best_model = None\n",
        "\n",
        "    for C in C_values:\n",
        "        model = model_class(learning_rate=1/C, n_iterations=1000)\n",
        "        scores = []\n",
        "\n",
        "        for train_index, test_index in kf.split(X):\n",
        "            X_train, X_val = X[train_index], X[test_index]\n",
        "            y_train, y_val = y[train_index], y[test_index]\n",
        "\n",
        "            model.fit(X_train, y_train)\n",
        "            y_pred = model.predict(X_val)\n",
        "            score = roc_auc_score(y_val, model.sigmoid(np.dot(X_val, model.weights) + model.bias))\n",
        "            scores.append(score)\n",
        "\n",
        "        mean_score = np.mean(scores)\n",
        "\n",
        "        if mean_score > best_score:\n",
        "            best_score = mean_score\n",
        "            best_model = model\n",
        "\n",
        "    return best_model\n",
        "\n",
        "C_values = [0.01, 0.1, 1, 10, 100]\n",
        "best_model = cross_validate(X_scaled, y, LogisticRegression, C_values)\n",
        "\n",
        "X_train, X_test, y_train, y_test = train_test_split(X_scaled, y, test_size=0.25, random_state=101)\n",
        "best_model.fit(X_train, y_train)\n",
        "y_pred = best_model.predict(X_test)\n",
        "\n",
        "print(confusion_matrix(y_test, y_pred))\n",
        "print(classification_report(y_test, y_pred))\n",
        "roc_auc = roc_auc_score(y_test, best_model.sigmoid(np.dot(X_test, best_model.weights) + best_model.bias))\n",
        "print(f'ROC AUC Score: {roc_auc}')\n",
        "\n",
        "sns.heatmap(confusion_matrix(y_test, y_pred), annot=True, cmap='viridis')\n",
        "plt.title('Confusion Matrix')\n",
        "plt.xlabel('Predicted')\n",
        "plt.ylabel('Actual')\n",
        "plt.show()"
      ],
      "metadata": {
        "colab": {
          "base_uri": "https://localhost:8080/",
          "height": 854
        },
        "id": "YFfvMaJ_24Sb",
        "outputId": "4459624b-6845-40ea-8cf6-1024d2d66004"
      },
      "execution_count": 31,
      "outputs": [
        {
          "output_type": "stream",
          "name": "stderr",
          "text": [
            "<ipython-input-31-d003dc4802de>:26: RuntimeWarning: overflow encountered in exp\n",
            "  return 1 / (1 + np.exp(-z))\n",
            "<ipython-input-31-d003dc4802de>:26: RuntimeWarning: overflow encountered in exp\n",
            "  return 1 / (1 + np.exp(-z))\n",
            "<ipython-input-31-d003dc4802de>:26: RuntimeWarning: overflow encountered in exp\n",
            "  return 1 / (1 + np.exp(-z))\n",
            "<ipython-input-31-d003dc4802de>:26: RuntimeWarning: overflow encountered in exp\n",
            "  return 1 / (1 + np.exp(-z))\n",
            "<ipython-input-31-d003dc4802de>:26: RuntimeWarning: overflow encountered in exp\n",
            "  return 1 / (1 + np.exp(-z))\n"
          ]
        },
        {
          "output_type": "stream",
          "name": "stdout",
          "text": [
            "[[87  1]\n",
            " [ 1 54]]\n",
            "              precision    recall  f1-score   support\n",
            "\n",
            "           0       0.99      0.99      0.99        88\n",
            "           1       0.98      0.98      0.98        55\n",
            "\n",
            "    accuracy                           0.99       143\n",
            "   macro avg       0.99      0.99      0.99       143\n",
            "weighted avg       0.99      0.99      0.99       143\n",
            "\n",
            "ROC AUC Score: 0.9977272727272727\n"
          ]
        },
        {
          "output_type": "display_data",
          "data": {
            "text/plain": [
              "<Figure size 640x480 with 2 Axes>"
            ],
            "image/png": "[encoded data removed]"
          },
          "metadata": {}
        }
      ]
    },
    {
      "cell_type": "code",
      "source": [
        "import pandas as pd\n",
        "import numpy as np\n",
        "from sklearn.model_selection import train_test_split\n",
        "from sklearn.metrics import mean_squared_error, mean_absolute_error, r2_score\n",
        "\n",
        "# Загрузка данных\n",
        "data = pd.read_csv('/root/.cache/kagglehub/datasets/thedevastator/netflix-imdb-scores/versions/2/Netflix TV Shows and Movies.csv')\n",
        "\n",
        "# Заполнение пропусков\n",
        "data['imdb_votes'] = data['imdb_votes'].fillna(data['imdb_votes'].mean())\n",
        "data['age_certification'] = data['age_certification'].fillna(data['age_certification'].mode()[0])\n",
        "\n",
        "# Выбор признаков и целевой переменной\n",
        "X = data[['release_year', 'runtime', 'imdb_votes']].values\n",
        "y = data['imdb_score'].values\n",
        "\n",
        "# Разделение данных на обучающую и тестовую выборки\n",
        "X_train, X_test, y_train, y_test = train_test_split(X, y, test_size=0.2, random_state=42)\n",
        "\n",
        "# Добавление столбца единиц для свободного члена (bias)\n",
        "X_train_b = np.c_[np.ones(X_train.shape[0]), X_train]\n",
        "X_test_b = np.c_[np.ones(X_test.shape[0]), X_test]\n",
        "\n",
        "# Реализация линейной регрессии\n",
        "# Метод наименьших квадратов: theta = (X.T * X)^(-1) * X.T * y\n",
        "theta = np.linalg.inv(X_train_b.T @ X_train_b) @ X_train_b.T @ y_train\n",
        "\n",
        "# Прогнозирование\n",
        "y_pred = X_test_b @ theta\n",
        "\n",
        "# Оценка модели\n",
        "mse = mean_squared_error(y_test, y_pred)\n",
        "mae = mean_absolute_error(y_test, y_pred)\n",
        "r2 = r2_score(y_test, y_pred)\n",
        "\n",
        "print(f'Mean Squared Error: {mse}')\n",
        "print(f'Mean Absolute Error: {mae}')\n",
        "print(f'R² Score: {r2}')\n"
      ],
      "metadata": {
        "colab": {
          "base_uri": "https://localhost:8080/"
        },
        "id": "D7abKOmu4_vw",
        "outputId": "0e440180-25c7-4035-88de-774b7c3a0413"
      },
      "execution_count": 33,
      "outputs": [
        {
          "output_type": "stream",
          "name": "stdout",
          "text": [
            "Mean Squared Error: 1.3134812280266386\n",
            "Mean Absolute Error: 0.8866432250687468\n",
            "R² Score: 0.07757997065353361\n"
          ]
        }
      ]
    },
    {
      "cell_type": "markdown",
      "source": [
        "Вариант с улучшенным бейзлайном"
      ],
      "metadata": {
        "id": "__S_lRJF7aoI"
      }
    },
    {
      "cell_type": "code",
      "source": [
        "import pandas as pd\n",
        "import numpy as np\n",
        "from sklearn.model_selection import train_test_split, GridSearchCV\n",
        "from sklearn.preprocessing import StandardScaler, PolynomialFeatures\n",
        "from sklearn.linear_model import Ridge\n",
        "from sklearn.metrics import mean_squared_error, mean_absolute_error, r2_score\n",
        "\n",
        "data = pd.read_csv('/root/.cache/kagglehub/datasets/thedevastator/netflix-imdb-scores/versions/2/Netflix TV Shows and Movies.csv')\n",
        "\n",
        "data['imdb_votes'] = data['imdb_votes'].fillna(data['imdb_votes'].mean())\n",
        "data['age_certification'] = data['age_certification'].fillna(data['age_certification'].mode()[0])\n",
        "\n",
        "X = data[['release_year', 'runtime', 'imdb_votes', 'type', 'age_certification']]\n",
        "y = data['imdb_score']\n",
        "\n",
        "X_encoded = pd.get_dummies(X, columns=['type', 'age_certification'])\n",
        "\n",
        "X_train, X_test, y_train, y_test = train_test_split(X_encoded, y, test_size=0.2, random_state=42)\n",
        "\n",
        "scaler = StandardScaler()\n",
        "X_train_scaled = scaler.fit_transform(X_train)\n",
        "X_test_scaled = scaler.transform(X_test)\n",
        "\n",
        "poly = PolynomialFeatures(degree=2)\n",
        "X_train_poly = poly.fit_transform(X_train_scaled)\n",
        "X_test_poly = poly.transform(X_test_scaled)\n",
        "\n",
        "param_grid = {'alpha': np.logspace(-4, 4, 100)}\n",
        "ridge = Ridge()\n",
        "grid_search = GridSearchCV(ridge, param_grid, cv=5, scoring='neg_mean_squared_error')\n",
        "grid_search.fit(X_train_poly, y_train)\n",
        "\n",
        "best_model = grid_search.best_estimator_\n",
        "\n",
        "y_pred = best_model.predict(X_test_poly)\n",
        "\n",
        "mse = mean_squared_error(y_test, y_pred)\n",
        "mae = mean_absolute_error(y_test, y_pred)\n",
        "r2 = r2_score(y_test, y_pred)\n",
        "\n",
        "print(f'Best alpha: {grid_search.best_params_[\"alpha\"]}')\n",
        "print(f'Mean Squared Error: {mse}')\n",
        "print(f'Mean Absolute Error: {mae}')\n",
        "print(f'R² Score: {r2}')\n"
      ],
      "metadata": {
        "colab": {
          "base_uri": "https://localhost:8080/"
        },
        "id": "NDaAQZMk7CCH",
        "outputId": "83033792-a429-48e2-80da-58a42c2aac56"
      },
      "execution_count": 34,
      "outputs": [
        {
          "output_type": "stream",
          "name": "stdout",
          "text": [
            "Best alpha: 114.9756995397738\n",
            "Mean Squared Error: 1.1681026124354614\n",
            "Mean Absolute Error: 0.8122534040242284\n",
            "R² Score: 0.17967518450096187\n"
          ]
        }
      ]
    },
    {
      "cell_type": "markdown",
      "source": [
        "У логистической регрессии показатели при самостоятельной реализации заметно улучшились, у линейной же незначительно уменьшились"
      ],
      "metadata": {
        "id": "fR1BMHad7-j7"
      }
    }
  ]
}