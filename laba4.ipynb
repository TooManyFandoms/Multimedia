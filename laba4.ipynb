{
  "nbformat": 4,
  "nbformat_minor": 0,
  "metadata": {
    "colab": {
      "provenance": [],
      "gpuType": "T4"
    },
    "kernelspec": {
      "name": "python3",
      "display_name": "Python 3"
    },
    "language_info": {
      "name": "python"
    }
  },
  "cells": [
    {
      "cell_type": "markdown",
      "source": [
        "##Задача классификации"
      ],
      "metadata": {
        "id": "UH-1kGg1_xlI"
      }
    },
    {
      "cell_type": "code",
      "source": [
        "import kagglehub\n",
        "\n",
        "# Download latest version\n",
        "path = kagglehub.dataset_download(\"gkalpolukcu/knn-algorithm-dataset\")\n",
        "\n",
        "print(\"Path to dataset files:\", path)"
      ],
      "metadata": {
        "colab": {
          "base_uri": "https://localhost:8080/"
        },
        "id": "-8g0ScKf_1hC",
        "outputId": "69cef281-b4a0-46c5-cf77-47f5997bc77d"
      },
      "execution_count": null,
      "outputs": [
        {
          "output_type": "stream",
          "name": "stdout",
          "text": [
            "Warning: Looks like you're using an outdated `kagglehub` version (installed: 0.3.5), please consider upgrading to the latest version (0.3.6).\n",
            "Downloading from https://www.kaggle.com/api/v1/datasets/download/gkalpolukcu/knn-algorithm-dataset?dataset_version_number=1...\n"
          ]
        },
        {
          "output_type": "stream",
          "name": "stderr",
          "text": [
            "100%|██████████| 48.7k/48.7k [00:00<00:00, 32.2MB/s]"
          ]
        },
        {
          "output_type": "stream",
          "name": "stdout",
          "text": [
            "Extracting files...\n",
            "Path to dataset files: /root/.cache/kagglehub/datasets/gkalpolukcu/knn-algorithm-dataset/versions/1\n"
          ]
        },
        {
          "output_type": "stream",
          "name": "stderr",
          "text": [
            "\n"
          ]
        }
      ]
    },
    {
      "cell_type": "code",
      "source": [
        "import pandas as pd\n",
        "from sklearn.ensemble import RandomForestClassifier\n",
        "from sklearn.model_selection import train_test_split\n",
        "from sklearn.metrics import accuracy_score, confusion_matrix, classification_report, roc_auc_score, roc_curve\n",
        "from sklearn.preprocessing import StandardScaler\n",
        "import seaborn as sns\n",
        "import matplotlib.pyplot as plt\n",
        "\n",
        "data = pd.read_csv('/root/.cache/kagglehub/datasets/gkalpolukcu/knn-algorithm-dataset/versions/1/KNNAlgorithmDataset.csv')\n",
        "data = data.drop(['id', 'Unnamed: 32'], axis=1)\n",
        "\n",
        "data['diagnosis'] = data['diagnosis'].map({'B': 0, 'M': 1})\n",
        "\n",
        "X = data.drop('diagnosis', axis=1)\n",
        "y = data['diagnosis']\n",
        "\n",
        "X_train, X_test, y_train, y_test = train_test_split(X, y, test_size=0.25, random_state=101)\n",
        "\n",
        "scaler = StandardScaler()\n",
        "X_train_scaled = scaler.fit_transform(X_train)\n",
        "X_test_scaled = scaler.transform(X_test)\n",
        "\n",
        "rf = RandomForestClassifier(n_estimators=100, max_depth=10, random_state=42)\n",
        "rf.fit(X_train_scaled, y_train)\n",
        "\n",
        "y_pred = rf.predict(X_test_scaled)\n",
        "\n",
        "accuracy = accuracy_score(y_test, y_pred)\n",
        "print(f\"Accuracy: {accuracy}\")\n",
        "\n",
        "cm = confusion_matrix(y_test, y_pred)\n",
        "sns.heatmap(cm, annot=True, cmap='viridis')\n",
        "plt.xlabel('Predicted')\n",
        "plt.ylabel('True')\n",
        "plt.title('Confusion Matrix')\n",
        "plt.show()\n",
        "\n",
        "print(classification_report(y_test, y_pred))\n",
        "\n",
        "roc_auc = roc_auc_score(y_test, rf.predict_proba(X_test_scaled)[:, 1])\n",
        "print(f'ROC AUC Score: {roc_auc}')\n"
      ],
      "metadata": {
        "colab": {
          "base_uri": "https://localhost:8080/",
          "height": 663
        },
        "id": "y4OrMexA_4As",
        "outputId": "c6323ba3-6625-4265-8be2-f4f40b8a8826"
      },
      "execution_count": null,
      "outputs": [
        {
          "output_type": "stream",
          "name": "stdout",
          "text": [
            "Accuracy: 0.972027972027972\n"
          ]
        },
        {
          "output_type": "display_data",
          "data": {
            "text/plain": [
              "<Figure size 640x480 with 2 Axes>"
            ],
            "image/png": "[encoded data removed]"
          },
          "metadata": {}
        },
        {
          "output_type": "stream",
          "name": "stdout",
          "text": [
            "              precision    recall  f1-score   support\n",
            "\n",
            "           0       0.98      0.98      0.98        88\n",
            "           1       0.96      0.96      0.96        55\n",
            "\n",
            "    accuracy                           0.97       143\n",
            "   macro avg       0.97      0.97      0.97       143\n",
            "weighted avg       0.97      0.97      0.97       143\n",
            "\n",
            "ROC AUC Score: 0.9979338842975206\n"
          ]
        }
      ]
    },
    {
      "cell_type": "markdown",
      "source": [
        "###Улучшенный бейзлайн"
      ],
      "metadata": {
        "id": "Y0cSpaKNpTxB"
      }
    },
    {
      "cell_type": "markdown",
      "source": [
        "Для улучшения бейзлайна сбалансируем класс с помощью SMOTE для улучшения точности на несбалансированных данных, используем GridSearchCV для подбора гиперпараметров модели, добавим расчет F1-метрики для более точной оценки модели при несбалансированных классах"
      ],
      "metadata": {
        "id": "il7hGnaTpj34"
      }
    },
    {
      "cell_type": "code",
      "source": [
        "import pandas as pd\n",
        "from sklearn.ensemble import RandomForestClassifier\n",
        "from sklearn.model_selection import train_test_split, GridSearchCV, StratifiedKFold\n",
        "from sklearn.metrics import accuracy_score, classification_report, roc_auc_score, f1_score, roc_curve, confusion_matrix\n",
        "from sklearn.preprocessing import StandardScaler\n",
        "import seaborn as sns\n",
        "import matplotlib.pyplot as plt\n",
        "from imblearn.over_sampling import SMOTE\n",
        "\n",
        "data = pd.read_csv('/root/.cache/kagglehub/datasets/gkalpolukcu/knn-algorithm-dataset/versions/1/KNNAlgorithmDataset.csv')\n",
        "data = data.drop(['id', 'Unnamed: 32'], axis=1)\n",
        "\n",
        "data['diagnosis'] = data['diagnosis'].map({'B': 0, 'M': 1})\n",
        "\n",
        "X = data.drop('diagnosis', axis=1)\n",
        "y = data['diagnosis']\n",
        "\n",
        "X_train, X_test, y_train, y_test = train_test_split(X, y, test_size=0.25, random_state=101)\n",
        "\n",
        "scaler = StandardScaler()\n",
        "X_train_scaled = scaler.fit_transform(X_train)\n",
        "X_test_scaled = scaler.transform(X_test)\n",
        "\n",
        "smote = SMOTE(random_state=42)\n",
        "X_train_res, y_train_res = smote.fit_resample(X_train_scaled, y_train)\n",
        "\n",
        "param_grid = {\n",
        "    'n_estimators': [50, 100, 200],\n",
        "    'max_depth': [None, 10, 20, 30],\n",
        "    'min_samples_split': [2, 5, 10],\n",
        "    'min_samples_leaf': [1, 2, 4],\n",
        "    'max_features': ['sqrt', 'log2']\n",
        "}\n",
        "\n",
        "grid_search = GridSearchCV(estimator=RandomForestClassifier(random_state=42),\n",
        "                           param_grid=param_grid,\n",
        "                           cv=StratifiedKFold(n_splits=5),\n",
        "                           n_jobs=-1,\n",
        "                           verbose=2)\n",
        "grid_search.fit(X_train_res, y_train_res)\n",
        "\n",
        "print(f\"Best parameters: {grid_search.best_params_}\")\n",
        "rf = grid_search.best_estimator_\n",
        "\n",
        "rf.fit(X_train_res, y_train_res)\n",
        "\n",
        "y_pred = rf.predict(X_test_scaled)\n",
        "accuracy = accuracy_score(y_test, y_pred)\n",
        "print(f\"Accuracy: {accuracy}\")\n",
        "\n",
        "f1 = f1_score(y_test, y_pred)\n",
        "print(f'F1 Score: {f1}')\n",
        "\n",
        "print(classification_report(y_test, y_pred))\n",
        "\n",
        "roc_auc = roc_auc_score(y_test, rf.predict_proba(X_test_scaled)[:, 1])\n",
        "print(f'ROC AUC Score: {roc_auc}')\n",
        "\n",
        "cm = confusion_matrix(y_test, y_pred)\n",
        "sns.heatmap(cm, annot=True, cmap='viridis')\n",
        "plt.xlabel('Predicted')\n",
        "plt.ylabel('True')\n",
        "plt.title('Confusion Matrix')\n",
        "plt.show()\n",
        "\n",
        "fpr, tpr, thresholds = roc_curve(y_test, rf.predict_proba(X_test_scaled)[:, 1])\n",
        "plt.figure()\n",
        "plt.plot(fpr, tpr, color='darkorange', lw=2, label='ROC curve (area = %0.2f)' % roc_auc)\n",
        "plt.plot([0, 1], [0, 1], color='navy', lw=2, linestyle='--')\n",
        "plt.xlim([0.0, 1.0])\n",
        "plt.ylim([0.0, 1.05])\n",
        "plt.xlabel('False Positive Rate')\n",
        "plt.ylabel('True Positive Rate')\n",
        "plt.title('Receiver Operating Characteristic')\n",
        "plt.legend(loc='lower right')\n",
        "plt.show()\n"
      ],
      "metadata": {
        "colab": {
          "base_uri": "https://localhost:8080/",
          "height": 1000
        },
        "id": "_ae7uuT9FnIs",
        "outputId": "9c83daa0-05f2-49c7-97bd-c56dca976331"
      },
      "execution_count": null,
      "outputs": [
        {
          "output_type": "stream",
          "name": "stdout",
          "text": [
            "Fitting 5 folds for each of 216 candidates, totalling 1080 fits\n"
          ]
        },
        {
          "output_type": "stream",
          "name": "stderr",
          "text": [
            "/usr/local/lib/python3.10/dist-packages/sklearn/base.py:474: FutureWarning: `BaseEstimator._validate_data` is deprecated in 1.6 and will be removed in 1.7. Use `sklearn.utils.validation.validate_data` instead. This function becomes public and is part of the scikit-learn developer API.\n",
            "  warnings.warn(\n",
            "/usr/local/lib/python3.10/dist-packages/sklearn/utils/_tags.py:354: FutureWarning: The SMOTE or classes from which it inherits use `_get_tags` and `_more_tags`. Please define the `__sklearn_tags__` method, or inherit from `sklearn.base.BaseEstimator` and/or other appropriate mixins such as `sklearn.base.TransformerMixin`, `sklearn.base.ClassifierMixin`, `sklearn.base.RegressorMixin`, and `sklearn.base.OutlierMixin`. From scikit-learn 1.7, not defining `__sklearn_tags__` will raise an error.\n",
            "  warnings.warn(\n"
          ]
        },
        {
          "output_type": "stream",
          "name": "stdout",
          "text": [
            "Best parameters: {'max_depth': None, 'max_features': 'log2', 'min_samples_leaf': 1, 'min_samples_split': 2, 'n_estimators': 50}\n",
            "Accuracy: 0.972027972027972\n",
            "F1 Score: 0.9649122807017544\n",
            "              precision    recall  f1-score   support\n",
            "\n",
            "           0       1.00      0.95      0.98        88\n",
            "           1       0.93      1.00      0.96        55\n",
            "\n",
            "    accuracy                           0.97       143\n",
            "   macro avg       0.97      0.98      0.97       143\n",
            "weighted avg       0.97      0.97      0.97       143\n",
            "\n",
            "ROC AUC Score: 0.9971074380165289\n"
          ]
        },
        {
          "output_type": "display_data",
          "data": {
            "text/plain": [
              "<Figure size 640x480 with 2 Axes>"
            ],
            "image/png": "[encoded data removed]"
          },
          "metadata": {}
        },
        {
          "output_type": "display_data",
          "data": {
            "text/plain": [
              "<Figure size 640x480 with 1 Axes>"
            ],
            "image/png": "[encoded data removed]"
          },
          "metadata": {}
        }
      ]
    },
    {
      "cell_type": "markdown",
      "source": [
        "Результат очень незначительно ухудшился, но он уже был достаточно хорошим, поэтому добиться заметных улучшений сложно."
      ],
      "metadata": {
        "id": "bdwifME6mQgK"
      }
    },
    {
      "cell_type": "markdown",
      "source": [
        "##Задача регрессии"
      ],
      "metadata": {
        "id": "eWmHDVmImfN2"
      }
    },
    {
      "cell_type": "code",
      "source": [
        "import kagglehub\n",
        "\n",
        "# Download latest version\n",
        "path = kagglehub.dataset_download(\"thedevastator/netflix-imdb-scores\")\n",
        "\n",
        "print(\"Path to dataset files:\", path)"
      ],
      "metadata": {
        "colab": {
          "base_uri": "https://localhost:8080/"
        },
        "id": "BzLkfwIBmiOS",
        "outputId": "b6a45636-01b1-41df-def6-96dda96def87"
      },
      "execution_count": null,
      "outputs": [
        {
          "output_type": "stream",
          "name": "stdout",
          "text": [
            "Warning: Looks like you're using an outdated `kagglehub` version (installed: 0.3.5), please consider upgrading to the latest version (0.3.6).\n",
            "Downloading from https://www.kaggle.com/api/v1/datasets/download/thedevastator/netflix-imdb-scores?dataset_version_number=2...\n"
          ]
        },
        {
          "output_type": "stream",
          "name": "stderr",
          "text": [
            "100%|██████████| 699k/699k [00:00<00:00, 64.2MB/s]"
          ]
        },
        {
          "output_type": "stream",
          "name": "stdout",
          "text": [
            "Extracting files...\n",
            "Path to dataset files: /root/.cache/kagglehub/datasets/thedevastator/netflix-imdb-scores/versions/2\n"
          ]
        },
        {
          "output_type": "stream",
          "name": "stderr",
          "text": [
            "\n"
          ]
        }
      ]
    },
    {
      "cell_type": "code",
      "source": [
        "import pandas as pd\n",
        "from sklearn.model_selection import train_test_split\n",
        "from sklearn.ensemble import RandomForestRegressor\n",
        "from sklearn.metrics import mean_squared_error, mean_absolute_error, r2_score\n",
        "\n",
        "data = pd.read_csv('/root/.cache/kagglehub/datasets/thedevastator/netflix-imdb-scores/versions/2/Netflix TV Shows and Movies.csv')\n",
        "\n",
        "data['imdb_votes'] = data['imdb_votes'].fillna(data['imdb_votes'].mean())\n",
        "data['age_certification'] = data['age_certification'].fillna(data['age_certification'].mode()[0])\n",
        "\n",
        "X = data[['release_year', 'runtime', 'imdb_votes']]\n",
        "y = data['imdb_score']\n",
        "\n",
        "X_train, X_test, y_train, y_test = train_test_split(X, y, test_size=0.2, random_state=42)\n",
        "\n",
        "rf_regressor = RandomForestRegressor(n_estimators=100, max_depth=5, min_samples_split=10, min_samples_leaf=5, random_state=42)\n",
        "\n",
        "rf_regressor.fit(X_train, y_train)\n",
        "\n",
        "y_pred = rf_regressor.predict(X_test)\n",
        "\n",
        "mse = mean_squared_error(y_test, y_pred)\n",
        "mae = mean_absolute_error(y_test, y_pred)\n",
        "r2 = r2_score(y_test, y_pred)\n",
        "\n",
        "print(f'Mean Squared Error: {mse}')\n",
        "print(f'Mean Absolute Error: {mae}')\n",
        "print(f'R² Score: {r2}')\n"
      ],
      "metadata": {
        "colab": {
          "base_uri": "https://localhost:8080/"
        },
        "id": "58oSlnSNmxjR",
        "outputId": "21cc5e8f-1606-4b21-80ab-2bb0555b8dec"
      },
      "execution_count": null,
      "outputs": [
        {
          "output_type": "stream",
          "name": "stdout",
          "text": [
            "Mean Squared Error: 1.1200654441434061\n",
            "Mean Absolute Error: 0.7863325807563906\n",
            "R² Score: 0.2134103039988251\n"
          ]
        }
      ]
    },
    {
      "cell_type": "markdown",
      "source": [
        "###Улучшенный бейзлайн"
      ],
      "metadata": {
        "id": "cMHKgj-kpXOg"
      }
    },
    {
      "cell_type": "markdown",
      "source": [
        "В качестве улучшения были добавлены признаки, использовался KNNImputer для улучшения заполнения пропусков в столбце imdb_votes, GridSearchCV для поиска оптимальных гиперпараметров модели случайного леса и были увеличены возможные значения параметров, таких как n_estimators, max_depth, min_samples_split, min_samples_leaf."
      ],
      "metadata": {
        "id": "KBIllkL6qV-v"
      }
    },
    {
      "cell_type": "code",
      "source": [
        "import pandas as pd\n",
        "from sklearn.model_selection import train_test_split, GridSearchCV\n",
        "from sklearn.ensemble import RandomForestRegressor\n",
        "from sklearn.metrics import mean_squared_error, mean_absolute_error, r2_score\n",
        "from sklearn.impute import KNNImputer\n",
        "\n",
        "data = pd.read_csv('/root/.cache/kagglehub/datasets/thedevastator/netflix-imdb-scores/versions/2/Netflix TV Shows and Movies.csv')\n",
        "\n",
        "imputer = KNNImputer(n_neighbors=5)\n",
        "data[['imdb_votes']] = imputer.fit_transform(data[['imdb_votes']])\n",
        "\n",
        "data['age_certification'] = data['age_certification'].fillna(data['age_certification'].mode()[0])\n",
        "\n",
        "X = data[['release_year', 'runtime', 'imdb_votes', 'type', 'age_certification']]\n",
        "y = data['imdb_score']\n",
        "X_encoded = pd.get_dummies(X, columns=['type', 'age_certification'])\n",
        "\n",
        "X_train, X_test, y_train, y_test = train_test_split(X_encoded, y, test_size=0.2, random_state=42)\n",
        "\n",
        "rf_regressor = RandomForestRegressor(random_state=42)\n",
        "\n",
        "param_grid = {\n",
        "    'n_estimators': [100, 200, 300],\n",
        "    'max_depth': [5, 10, 20],\n",
        "    'min_samples_split': [2, 5, 10],\n",
        "    'min_samples_leaf': [1, 2, 5]\n",
        "}\n",
        "\n",
        "grid_search = GridSearchCV(estimator=rf_regressor, param_grid=param_grid, cv=3, scoring='neg_mean_squared_error')\n",
        "grid_search.fit(X_train, y_train)\n",
        "\n",
        "best_rf = grid_search.best_estimator_\n",
        "\n",
        "y_pred = best_rf.predict(X_test)\n",
        "\n",
        "mse = mean_squared_error(y_test, y_pred)\n",
        "mae = mean_absolute_error(y_test, y_pred)\n",
        "r2 = r2_score(y_test, y_pred)\n",
        "\n",
        "print(f'Mean Squared Error: {mse}')\n",
        "print(f'Mean Absolute Error: {mae}')\n",
        "print(f'R² Score: {r2}')\n"
      ],
      "metadata": {
        "colab": {
          "base_uri": "https://localhost:8080/"
        },
        "id": "aPGz5JbYnSO0",
        "outputId": "6cf00792-6173-4e23-914f-879e21974720"
      },
      "execution_count": null,
      "outputs": [
        {
          "output_type": "stream",
          "name": "stdout",
          "text": [
            "Mean Squared Error: 1.0610461237725044\n",
            "Mean Absolute Error: 0.7557753827490084\n",
            "R² Score: 0.25485787254179293\n"
          ]
        }
      ]
    },
    {
      "cell_type": "markdown",
      "source": [
        "Результат заметно улучшился, особенно по сравнению с другими алгоритмами"
      ],
      "metadata": {
        "id": "EukKGFpRpahC"
      }
    },
    {
      "cell_type": "markdown",
      "source": [
        "##Самостоятельно имплементированные модели"
      ],
      "metadata": {
        "id": "9v8s5mk_qvIV"
      }
    },
    {
      "cell_type": "code",
      "source": [
        "import pandas as pd\n",
        "import numpy as np\n",
        "from sklearn.model_selection import train_test_split\n",
        "from sklearn.preprocessing import StandardScaler\n",
        "from sklearn.metrics import accuracy_score, confusion_matrix, classification_report, roc_auc_score\n",
        "import seaborn as sns\n",
        "import matplotlib.pyplot as plt\n",
        "\n",
        "data = pd.read_csv('/root/.cache/kagglehub/datasets/gkalpolukcu/knn-algorithm-dataset/versions/1/KNNAlgorithmDataset.csv')\n",
        "data = data.drop(['id', 'Unnamed: 32'], axis=1)\n",
        "\n",
        "data['diagnosis'] = data['diagnosis'].map({'B': 0, 'M': 1})\n",
        "\n",
        "X = data.drop('diagnosis', axis=1)\n",
        "y = data['diagnosis']\n",
        "\n",
        "X_train, X_test, y_train, y_test = train_test_split(X, y, test_size=0.25, random_state=101)\n",
        "\n",
        "scaler = StandardScaler()\n",
        "X_train_scaled = scaler.fit_transform(X_train)\n",
        "X_test_scaled = scaler.transform(X_test)\n",
        "\n",
        "class DecisionTree:\n",
        "    def __init__(self, max_depth=None, min_samples_split=2, max_features=None):\n",
        "        self.max_depth = max_depth\n",
        "        self.min_samples_split = min_samples_split\n",
        "        self.max_features = max_features\n",
        "        self.tree = None\n",
        "\n",
        "    def fit(self, X, y):\n",
        "        self.tree = self._build_tree(X, y)\n",
        "\n",
        "    def _build_tree(self, X, y, depth=0):\n",
        "        n_samples, n_features = X.shape\n",
        "        unique_classes = np.unique(y)\n",
        "\n",
        "        if len(unique_classes) == 1 or (self.max_depth and depth == self.max_depth) or n_samples < self.min_samples_split:\n",
        "            return unique_classes[0]\n",
        "\n",
        "        if self.max_features:\n",
        "            features = np.random.choice(n_features, self.max_features, replace=False)\n",
        "        else:\n",
        "            features = range(n_features)\n",
        "\n",
        "        best_gini = float('inf')\n",
        "        best_split = None\n",
        "        best_left_y, best_right_y = None, None\n",
        "        best_left_X, best_right_X = None, None\n",
        "\n",
        "        for feature in features:\n",
        "            thresholds = np.unique(X[:, feature])\n",
        "\n",
        "            for threshold in thresholds:\n",
        "                left_mask = X[:, feature] <= threshold\n",
        "                right_mask = ~left_mask\n",
        "\n",
        "                left_y = y[left_mask]\n",
        "                right_y = y[right_mask]\n",
        "\n",
        "                left_X = X[left_mask]\n",
        "                right_X = X[right_mask]\n",
        "\n",
        "                if len(left_y) < self.min_samples_split or len(right_y) < self.min_samples_split:\n",
        "                    continue\n",
        "\n",
        "                gini = self._gini_impurity(left_y, right_y)\n",
        "                if gini < best_gini:\n",
        "                    best_gini = gini\n",
        "                    best_split = (feature, threshold)\n",
        "                    best_left_y, best_right_y = left_y, right_y\n",
        "                    best_left_X, best_right_X = left_X, right_X\n",
        "\n",
        "        if best_split is None:\n",
        "            return np.random.choice(unique_classes)\n",
        "\n",
        "        left_tree = self._build_tree(best_left_X, best_left_y, depth + 1)\n",
        "        right_tree = self._build_tree(best_right_X, best_right_y, depth + 1)\n",
        "\n",
        "        return {'feature': best_split[0], 'threshold': best_split[1], 'left': left_tree, 'right': right_tree}\n",
        "\n",
        "    def _gini_impurity(self, left_y, right_y):\n",
        "        left_size, right_size = len(left_y), len(right_y)\n",
        "        total_size = left_size + right_size\n",
        "\n",
        "        left_prob = np.sum(left_y == 1) / left_size if left_size > 0 else 0\n",
        "        right_prob = np.sum(right_y == 1) / right_size if right_size > 0 else 0\n",
        "\n",
        "        left_gini = 1 - left_prob**2 - (1 - left_prob)**2\n",
        "        right_gini = 1 - right_prob**2 - (1 - right_prob)**2\n",
        "\n",
        "        return (left_size / total_size) * left_gini + (right_size / total_size) * right_gini\n",
        "\n",
        "    def predict(self, X):\n",
        "        return [self._predict_sample(sample, self.tree) for sample in X]\n",
        "\n",
        "    def _predict_sample(self, sample, tree):\n",
        "        if isinstance(tree, dict):\n",
        "            if sample[tree['feature']] <= tree['threshold']:\n",
        "                return self._predict_sample(sample, tree['left'])\n",
        "            else:\n",
        "                return self._predict_sample(sample, tree['right'])\n",
        "        else:\n",
        "            return tree\n",
        "\n",
        "class RandomForest:\n",
        "    def __init__(self, n_estimators=100, max_depth=None, min_samples_split=2, max_features=None):\n",
        "        self.n_estimators = n_estimators\n",
        "        self.max_depth = max_depth\n",
        "        self.min_samples_split = min_samples_split\n",
        "        self.max_features = max_features\n",
        "        self.trees = []\n",
        "\n",
        "    def fit(self, X, y):\n",
        "        X = np.array(X)\n",
        "        y = np.array(y)\n",
        "        n_samples = X.shape[0]\n",
        "\n",
        "        if isinstance(self.max_features, str) and self.max_features == 'sqrt':\n",
        "            self.max_features = int(np.sqrt(X.shape[1]))\n",
        "\n",
        "        for _ in range(self.n_estimators):\n",
        "            indices = np.random.choice(n_samples, n_samples, replace=True)\n",
        "            X_sample = X[indices]\n",
        "            y_sample = y[indices]\n",
        "\n",
        "            tree = DecisionTree(self.max_depth, self.min_samples_split, self.max_features)\n",
        "            tree.fit(X_sample, y_sample)\n",
        "            self.trees.append(tree)\n",
        "\n",
        "    def predict(self, X):\n",
        "        X = np.array(X)\n",
        "        predictions = np.array([tree.predict(X) for tree in self.trees])\n",
        "        return [np.bincount(prediction).argmax() for prediction in predictions.T]\n",
        "\n",
        "rf = RandomForest(n_estimators=100, max_depth=10, max_features='sqrt')\n",
        "rf.fit(X_train_scaled, y_train)\n",
        "\n",
        "y_pred = rf.predict(X_test_scaled)\n",
        "\n",
        "accuracy = accuracy_score(y_test, y_pred)\n",
        "print(f\"Accuracy: {accuracy}\")\n",
        "\n",
        "cm = confusion_matrix(y_test, y_pred)\n",
        "sns.heatmap(cm, annot=True, cmap='viridis')\n",
        "plt.xlabel('Predicted')\n",
        "plt.ylabel('True')\n",
        "plt.title('Confusion Matrix')\n",
        "plt.show()\n",
        "\n",
        "print(classification_report(y_test, y_pred))\n",
        "\n",
        "roc_auc = roc_auc_score(y_test, y_pred)\n",
        "print(f'ROC AUC Score: {roc_auc}')\n"
      ],
      "metadata": {
        "colab": {
          "base_uri": "https://localhost:8080/",
          "height": 663
        },
        "id": "VsfQAsATq9Lh",
        "outputId": "c7d49e04-94f0-474c-fca3-8b9702806b97"
      },
      "execution_count": null,
      "outputs": [
        {
          "output_type": "stream",
          "name": "stdout",
          "text": [
            "Accuracy: 0.965034965034965\n"
          ]
        },
        {
          "output_type": "display_data",
          "data": {
            "text/plain": [
              "<Figure size 640x480 with 2 Axes>"
            ],
            "image/png": "[encoded data removed]"
          },
          "metadata": {}
        },
        {
          "output_type": "stream",
          "name": "stdout",
          "text": [
            "              precision    recall  f1-score   support\n",
            "\n",
            "           0       0.98      0.97      0.97        88\n",
            "           1       0.95      0.96      0.95        55\n",
            "\n",
            "    accuracy                           0.97       143\n",
            "   macro avg       0.96      0.96      0.96       143\n",
            "weighted avg       0.97      0.97      0.97       143\n",
            "\n",
            "ROC AUC Score: 0.9647727272727272\n"
          ]
        }
      ]
    },
    {
      "cell_type": "code",
      "source": [
        "import pandas as pd\n",
        "import numpy as np\n",
        "from sklearn.model_selection import train_test_split, GridSearchCV\n",
        "from sklearn.preprocessing import StandardScaler\n",
        "from sklearn.metrics import accuracy_score, confusion_matrix, classification_report, roc_auc_score, f1_score\n",
        "from imblearn.over_sampling import SMOTE\n",
        "import seaborn as sns\n",
        "import matplotlib.pyplot as plt\n",
        "\n",
        "data = pd.read_csv('/root/.cache/kagglehub/datasets/gkalpolukcu/knn-algorithm-dataset/versions/1/KNNAlgorithmDataset.csv')\n",
        "data = data.drop(['id', 'Unnamed: 32'], axis=1)\n",
        "\n",
        "data['diagnosis'] = data['diagnosis'].map({'B': 0, 'M': 1})\n",
        "\n",
        "X = data.drop('diagnosis', axis=1)\n",
        "y = data['diagnosis']\n",
        "\n",
        "X_train, X_test, y_train, y_test = train_test_split(X, y, test_size=0.25, random_state=101)\n",
        "\n",
        "smote = SMOTE(k_neighbors=5, random_state=42)\n",
        "X_train_balanced, y_train_balanced = smote.fit_resample(X_train, y_train)\n",
        "\n",
        "scaler = StandardScaler()\n",
        "X_train_scaled = scaler.fit_transform(X_train_balanced)\n",
        "X_test_scaled = scaler.transform(X_test)\n",
        "\n",
        "class OptimizedDecisionTree:\n",
        "    def __init__(self, max_depth=None, min_samples_split=2, max_features=None):\n",
        "        self.max_depth = max_depth\n",
        "        self.min_samples_split = min_samples_split\n",
        "        self.max_features = max_features\n",
        "        self.tree = None\n",
        "\n",
        "    def fit(self, X, y):\n",
        "        self.tree = self._build_tree(X, y)\n",
        "\n",
        "    def _build_tree(self, X, y, depth=0):\n",
        "        n_samples, n_features = X.shape\n",
        "        unique_classes = np.unique(y)\n",
        "\n",
        "        if len(unique_classes) == 1 or (self.max_depth and depth == self.max_depth) or n_samples < self.min_samples_split:\n",
        "            return unique_classes[0]\n",
        "\n",
        "        if self.max_features:\n",
        "            features = np.random.choice(n_features, self.max_features, replace=False)\n",
        "        else:\n",
        "            features = range(n_features)\n",
        "\n",
        "        best_gini = float('inf')\n",
        "        best_split = None\n",
        "        best_left_y, best_right_y = None, None\n",
        "        best_left_X, best_right_X = None, None\n",
        "\n",
        "        for feature in features:\n",
        "            thresholds = np.unique(X[:, feature])\n",
        "\n",
        "            for threshold in thresholds:\n",
        "                left_mask = X[:, feature] <= threshold\n",
        "                right_mask = ~left_mask\n",
        "\n",
        "                left_y = y[left_mask]\n",
        "                right_y = y[right_mask]\n",
        "\n",
        "                if len(left_y) < self.min_samples_split or len(right_y) < self.min_samples_split:\n",
        "                    continue\n",
        "\n",
        "                gini = self._gini_impurity(left_y, right_y)\n",
        "                if gini < best_gini:\n",
        "                    best_gini = gini\n",
        "                    best_split = (feature, threshold)\n",
        "                    best_left_y, best_right_y = left_y, right_y\n",
        "                    best_left_X, best_right_X = X[left_mask], X[right_mask]\n",
        "\n",
        "        if best_split is None:\n",
        "            return np.random.choice(unique_classes)\n",
        "\n",
        "        left_tree = self._build_tree(best_left_X, best_left_y, depth + 1)\n",
        "        right_tree = self._build_tree(best_right_X, best_right_y, depth + 1)\n",
        "\n",
        "        return {'feature': best_split[0], 'threshold': best_split[1], 'left': left_tree, 'right': right_tree}\n",
        "\n",
        "    def _gini_impurity(self, left_y, right_y):\n",
        "        left_size, right_size = len(left_y), len(right_y)\n",
        "        total_size = left_size + right_size\n",
        "\n",
        "        left_prob = np.sum(left_y == 1) / left_size if left_size > 0 else 0\n",
        "        right_prob = np.sum(right_y == 1) / right_size if right_size > 0 else 0\n",
        "\n",
        "        left_gini = 1 - left_prob**2 - (1 - left_prob)**2\n",
        "        right_gini = 1 - right_prob**2 - (1 - right_prob)**2\n",
        "\n",
        "        return (left_size / total_size) * left_gini + (right_size / total_size) * right_gini\n",
        "\n",
        "    def predict(self, X):\n",
        "        return [self._predict_sample(sample, self.tree) for sample in X]\n",
        "\n",
        "    def _predict_sample(self, sample, tree):\n",
        "        if isinstance(tree, dict):\n",
        "            if sample[tree['feature']] <= tree['threshold']:\n",
        "                return self._predict_sample(sample, tree['left'])\n",
        "            else:\n",
        "                return self._predict_sample(sample, tree['right'])\n",
        "        else:\n",
        "            return tree\n",
        "\n",
        "    def score(self, X, y):\n",
        "        predictions = self.predict(X)\n",
        "        return accuracy_score(y, predictions)\n",
        "\n",
        "    def get_params(self, deep=True):\n",
        "        return {\n",
        "            'max_depth': self.max_depth,\n",
        "            'min_samples_split': self.min_samples_split,\n",
        "            'max_features': self.max_features\n",
        "        }\n",
        "\n",
        "    def set_params(self, **params):\n",
        "        for param, value in params.items():\n",
        "            setattr(self, param, value)\n",
        "        return self\n",
        "\n",
        "\n",
        "class OptimizedRandomForest:\n",
        "    def __init__(self, n_estimators=100, max_depth=None, min_samples_split=2, max_features=None):\n",
        "        self.n_estimators = n_estimators\n",
        "        self.max_depth = max_depth\n",
        "        self.min_samples_split = min_samples_split\n",
        "        self.max_features = max_features\n",
        "        self.trees = []\n",
        "\n",
        "    def get_params(self, deep=True):\n",
        "        return {\n",
        "            'n_estimators': self.n_estimators,\n",
        "            'max_depth': self.max_depth,\n",
        "            'min_samples_split': self.min_samples_split,\n",
        "            'max_features': self.max_features\n",
        "        }\n",
        "\n",
        "    def set_params(self, **params):\n",
        "        for param, value in params.items():\n",
        "            setattr(self, param, value)\n",
        "        return self\n",
        "\n",
        "    def fit(self, X, y):\n",
        "        n_samples = X.shape[0]\n",
        "        for _ in range(self.n_estimators):\n",
        "            indices = np.random.choice(n_samples, n_samples, replace=True)\n",
        "            X_sample = X[indices]\n",
        "            y_sample = y[indices]\n",
        "\n",
        "            tree = OptimizedDecisionTree(self.max_depth, self.min_samples_split, self.max_features)\n",
        "            tree.fit(X_sample, y_sample)\n",
        "            self.trees.append(tree)\n",
        "\n",
        "    def predict(self, X):\n",
        "        predictions = np.array([tree.predict(X) for tree in self.trees])\n",
        "        return [np.bincount(prediction).argmax() for prediction in predictions.T]\n",
        "\n",
        "    def score(self, X, y):\n",
        "        predictions = self.predict(X)\n",
        "        return accuracy_score(y, predictions)\n",
        "\n",
        "\n",
        "param_grid = {\n",
        "    'n_estimators': [50, 100],\n",
        "    'max_depth': [10, 20, None],\n",
        "    'max_features': ['sqrt', 'log2', None]\n",
        "}\n",
        "\n",
        "rf = OptimizedRandomForest()\n",
        "grid_search = GridSearchCV(estimator=rf, param_grid=param_grid, cv=3, n_jobs=-1, verbose=2)\n",
        "\n",
        "grid_search.fit(X_train_scaled, y_train_balanced)\n",
        "\n",
        "print(f\"Best parameters: {grid_search.best_params_}\")\n",
        "\n",
        "y_pred = grid_search.best_estimator_.predict(X_test_scaled)\n",
        "\n",
        "accuracy = accuracy_score(y_test, y_pred)\n",
        "f1 = f1_score(y_test, y_pred)\n",
        "\n",
        "print(f\"Accuracy: {accuracy}\")\n",
        "print(f\"F1 Score: {f1}\")\n",
        "\n",
        "cm = confusion_matrix(y_test, y_pred)\n",
        "sns.heatmap(cm, annot=True, cmap='viridis')\n",
        "plt.xlabel('Predicted')\n",
        "plt.ylabel('True')\n",
        "plt.title('Confusion Matrix')\n",
        "plt.show()\n",
        "\n",
        "print(classification_report(y_test, y_pred))\n",
        "\n",
        "roc_auc = roc_auc_score(y_test, y_pred)\n",
        "print(f'ROC AUC Score: {roc_auc}')\n"
      ],
      "metadata": {
        "id": "p15DYcV9ypB8"
      },
      "execution_count": null,
      "outputs": []
    },
    {
      "cell_type": "code",
      "source": [
        "import pandas as pd\n",
        "import numpy as np\n",
        "from sklearn.model_selection import train_test_split\n",
        "from sklearn.preprocessing import StandardScaler\n",
        "from sklearn.metrics import mean_squared_error, r2_score\n",
        "import seaborn as sns\n",
        "import matplotlib.pyplot as plt\n",
        "\n",
        "data = pd.read_csv('/root/.cache/kagglehub/datasets/thedevastator/netflix-imdb-scores/versions/2/Netflix TV Shows and Movies.csv')\n",
        "\n",
        "data['imdb_votes'] = data['imdb_votes'].fillna(data['imdb_votes'].mean())\n",
        "data['age_certification'] = data['age_certification'].fillna(data['age_certification'].mode()[0])\n",
        "\n",
        "X = data[['release_year', 'runtime', 'imdb_votes']]\n",
        "y = data['imdb_score']\n",
        "\n",
        "X_train, X_test, y_train, y_test = train_test_split(X, y, test_size=0.25, random_state=101)\n",
        "\n",
        "scaler = StandardScaler()\n",
        "X_train_scaled = scaler.fit_transform(X_train)\n",
        "X_test_scaled = scaler.transform(X_test)\n",
        "\n",
        "class DecisionTreeRegressor:\n",
        "    def __init__(self, max_depth=None, min_samples_split=2):\n",
        "        self.max_depth = max_depth\n",
        "        self.min_samples_split = min_samples_split\n",
        "        self.tree = None\n",
        "\n",
        "    def fit(self, X, y):\n",
        "        self.tree = self._build_tree(X, y)\n",
        "\n",
        "    def _build_tree(self, X, y, depth=0):\n",
        "        n_samples, n_features = X.shape\n",
        "\n",
        "        if len(set(y)) == 1 or (self.max_depth is not None and depth == self.max_depth) or n_samples < self.min_samples_split:\n",
        "            return np.mean(y)\n",
        "\n",
        "        best_mse = float('inf')\n",
        "        best_split = None\n",
        "        best_left_y, best_right_y = None, None\n",
        "        best_left_X, best_right_X = None, None\n",
        "\n",
        "        for feature in range(n_features):\n",
        "            thresholds = np.unique(X[:, feature])\n",
        "\n",
        "            for threshold in thresholds:\n",
        "                left_mask = X[:, feature] <= threshold\n",
        "                right_mask = ~left_mask\n",
        "\n",
        "                left_y = y[left_mask]\n",
        "                right_y = y[right_mask]\n",
        "\n",
        "                if len(left_y) < self.min_samples_split or len(right_y) < self.min_samples_split:\n",
        "                    continue\n",
        "\n",
        "                mse = self._mean_squared_error(left_y, right_y)\n",
        "                if mse < best_mse:\n",
        "                    best_mse = mse\n",
        "                    best_split = (feature, threshold)\n",
        "                    best_left_y, best_right_y = left_y, right_y\n",
        "                    best_left_X, best_right_X = X[left_mask], X[right_mask]\n",
        "\n",
        "        if best_split is None:\n",
        "            return np.mean(y)\n",
        "\n",
        "        left_tree = self._build_tree(best_left_X, best_left_y, depth + 1)\n",
        "        right_tree = self._build_tree(best_right_X, best_right_y, depth + 1)\n",
        "\n",
        "        return {'feature': best_split[0], 'threshold': best_split[1], 'left': left_tree, 'right': right_tree}\n",
        "\n",
        "    def _mean_squared_error(self, left_y, right_y):\n",
        "        left_mse = np.mean((left_y - np.mean(left_y)) ** 2) if len(left_y) > 0 else 0\n",
        "        right_mse = np.mean((right_y - np.mean(right_y)) ** 2) if len(right_y) > 0 else 0\n",
        "        return left_mse * (len(left_y) / (len(left_y) + len(right_y))) + right_mse * (len(right_y) / (len(left_y) + len(right_y)))\n",
        "\n",
        "    def predict(self, X):\n",
        "        return [self._predict_sample(sample, self.tree) for sample in X]\n",
        "\n",
        "    def _predict_sample(self, sample, tree):\n",
        "        if isinstance(tree, dict):\n",
        "            if sample[tree['feature']] <= tree['threshold']:\n",
        "                return self._predict_sample(sample, tree['left'])\n",
        "            else:\n",
        "                return self._predict_sample(sample, tree['right'])\n",
        "        else:\n",
        "            return tree\n",
        "\n",
        "class RandomForestRegressor:\n",
        "    def __init__(self, n_estimators=100, max_depth=None, min_samples_split=2, max_features=None):\n",
        "        self.n_estimators = n_estimators\n",
        "        self.max_depth = max_depth\n",
        "        self.min_samples_split = min_samples_split\n",
        "        self.max_features = max_features\n",
        "        self.trees = []\n",
        "\n",
        "    def fit(self, X, y):\n",
        "        n_samples = X.shape[0]\n",
        "\n",
        "        for _ in range(self.n_estimators):\n",
        "            indices = np.random.choice(n_samples, n_samples, replace=True)\n",
        "            X_sample = X[indices]\n",
        "            y_sample = y.iloc[indices]\n",
        "\n",
        "            tree = DecisionTreeRegressor(max_depth=self.max_depth, min_samples_split=self.min_samples_split)\n",
        "            tree.fit(X_sample, y_sample)\n",
        "            self.trees.append(tree)\n",
        "\n",
        "    def predict(self, X):\n",
        "        predictions = np.array([tree.predict(X) for tree in self.trees])\n",
        "        return np.mean(predictions, axis=0)\n",
        "\n",
        "rf_regressor = RandomForestRegressor(n_estimators=100, max_depth=10, min_samples_split=5)\n",
        "rf_regressor.fit(X_train_scaled, y_train)\n",
        "\n",
        "y_pred = rf_regressor.predict(X_test_scaled)\n",
        "\n",
        "mse = mean_squared_error(y_test, y_pred)\n",
        "r2 = r2_score(y_test, y_pred)\n",
        "\n",
        "print(f'Mean Squared Error: {mse}')\n",
        "print(f'R^2 Score: {r2}')\n",
        "\n",
        "plt.scatter(y_test, y_pred)\n",
        "plt.xlabel('True Values')\n",
        "plt.ylabel('Predictions')\n",
        "plt.title('True vs Predicted Values')\n",
        "plt.plot([y.min(), y.max()], [y.min(), y.max()], 'k--', lw=2)\n",
        "plt.show()\n"
      ],
      "metadata": {
        "colab": {
          "base_uri": "https://localhost:8080/",
          "height": 507
        },
        "id": "fUuGKmWU8UON",
        "outputId": "68de0fbe-5719-4af6-d0b5-8b1a84dc3be7"
      },
      "execution_count": null,
      "outputs": [
        {
          "output_type": "stream",
          "name": "stdout",
          "text": [
            "Mean Squared Error: 1.1447822885774632\n",
            "R^2 Score: 0.2142592762942691\n"
          ]
        },
        {
          "output_type": "display_data",
          "data": {
            "text/plain": [
              "<Figure size 640x480 with 1 Axes>"
            ],
            "image/png": "[encoded data removed]"
          },
          "metadata": {}
        }
      ]
    },
    {
      "cell_type": "code",
      "source": [
        "import pandas as pd\n",
        "import numpy as np\n",
        "from sklearn.model_selection import train_test_split\n",
        "from sklearn.preprocessing import StandardScaler\n",
        "from sklearn.metrics import mean_squared_error, r2_score\n",
        "import seaborn as sns\n",
        "import matplotlib.pyplot as plt\n",
        "\n",
        "data = pd.read_csv('/root/.cache/kagglehub/datasets/thedevastator/netflix-imdb-scores/versions/2/Netflix TV Shows and Movies.csv')\n",
        "\n",
        "data['imdb_votes'] = data['imdb_votes'].fillna(data['imdb_votes'].mean())\n",
        "data['age_certification'] = data['age_certification'].fillna(data['age_certification'].mode()[0])\n",
        "\n",
        "X = data[['release_year', 'runtime', 'imdb_votes', 'type', 'age_certification']]\n",
        "y = data['imdb_score']\n",
        "\n",
        "X_encoded = pd.get_dummies(X, columns=['type', 'age_certification'])\n",
        "\n",
        "X_train, X_test, y_train, y_test = train_test_split(X_encoded, y, test_size=0.25, random_state=101)\n",
        "\n",
        "scaler = StandardScaler()\n",
        "X_train_scaled = scaler.fit_transform(X_train)\n",
        "X_test_scaled = scaler.transform(X_test)\n",
        "\n",
        "class DecisionTreeRegressor:\n",
        "    def __init__(self, max_depth=None, min_samples_split=2):\n",
        "        self.max_depth = max_depth\n",
        "        self.min_samples_split = min_samples_split\n",
        "        self.tree = None\n",
        "\n",
        "    def fit(self, X, y):\n",
        "        self.tree = self._build_tree(X, y)\n",
        "\n",
        "    def _build_tree(self, X, y, depth=0):\n",
        "        n_samples, n_features = X.shape\n",
        "\n",
        "        if len(set(y)) == 1 or (self.max_depth is not None and depth == self.max_depth) or n_samples < self.min_samples_split:\n",
        "            return np.mean(y)\n",
        "\n",
        "        best_mse = float('inf')\n",
        "        best_split = None\n",
        "        best_left_y, best_right_y = None, None\n",
        "        best_left_X, best_right_X = None, None\n",
        "\n",
        "        for feature in range(n_features):\n",
        "            thresholds = np.unique(X[:, feature])\n",
        "\n",
        "            for threshold in thresholds:\n",
        "                left_mask = X[:, feature] <= threshold\n",
        "                right_mask = ~left_mask\n",
        "\n",
        "                left_y = y[left_mask]\n",
        "                right_y = y[right_mask]\n",
        "\n",
        "                if len(left_y) < self.min_samples_split or len(right_y) < self.min_samples_split:\n",
        "                    continue\n",
        "\n",
        "                mse = self._mean_squared_error(left_y, right_y)\n",
        "                if mse < best_mse:\n",
        "                    best_mse = mse\n",
        "                    best_split = (feature, threshold)\n",
        "                    best_left_y, best_right_y = left_y, right_y\n",
        "                    best_left_X, best_right_X = X[left_mask], X[right_mask]\n",
        "\n",
        "        if best_split is None:\n",
        "            return np.mean(y)\n",
        "\n",
        "        left_tree = self._build_tree(best_left_X, best_left_y, depth + 1)\n",
        "        right_tree = self._build_tree(best_right_X, best_right_y, depth + 1)\n",
        "\n",
        "        return {'feature': best_split[0], 'threshold': best_split[1], 'left': left_tree, 'right': right_tree}\n",
        "\n",
        "    def _mean_squared_error(self, left_y, right_y):\n",
        "        left_mse = np.mean((left_y - np.mean(left_y)) ** 2) if len(left_y) > 0 else 0\n",
        "        right_mse = np.mean((right_y - np.mean(right_y)) ** 2) if len(right_y) > 0 else 0\n",
        "        return left_mse * (len(left_y) / (len(left_y) + len(right_y))) + right_mse * (len(right_y) / (len(left_y) + len(right_y)))\n",
        "\n",
        "    def predict(self, X):\n",
        "        return [self._predict_sample(sample, self.tree) for sample in X]\n",
        "\n",
        "    def _predict_sample(self, sample, tree):\n",
        "        if isinstance(tree, dict):\n",
        "            if sample[tree['feature']] <= tree['threshold']:\n",
        "                return self._predict_sample(sample, tree['left'])\n",
        "            else:\n",
        "                return self._predict_sample(sample, tree['right'])\n",
        "        else:\n",
        "            return tree\n",
        "\n",
        "class RandomForestRegressor:\n",
        "    def __init__(self, n_estimators=100, max_depth=None, min_samples_split=2, max_features=None):\n",
        "        self.n_estimators = n_estimators\n",
        "        self.max_depth = max_depth\n",
        "        self.min_samples_split = min_samples_split\n",
        "        self.max_features = max_features\n",
        "        self.trees = []\n",
        "\n",
        "    def fit(self, X, y):\n",
        "        n_samples = X.shape[0]\n",
        "\n",
        "        for _ in range(self.n_estimators):\n",
        "            indices = np.random.choice(n_samples, n_samples, replace=True)\n",
        "            X_sample = X[indices]\n",
        "            y_sample = y.iloc[indices]\n",
        "\n",
        "            tree = DecisionTreeRegressor(max_depth=self.max_depth, min_samples_split=self.min_samples_split)\n",
        "            tree.fit(X_sample, y_sample)\n",
        "            self.trees.append(tree)\n",
        "\n",
        "    def predict(self, X):\n",
        "        predictions = np.array([tree.predict(X) for tree in self.trees])\n",
        "        return np.mean(predictions, axis=0)\n",
        "\n",
        "rf_regressor = RandomForestRegressor(n_estimators=100, max_depth=10, min_samples_split=5)\n",
        "rf_regressor.fit(X_train_scaled, y_train)\n",
        "\n",
        "y_pred = rf_regressor.predict(X_test_scaled)\n",
        "\n",
        "mse = mean_squared_error(y_test, y_pred)\n",
        "r2 = r2_score(y_test, y_pred)\n",
        "\n",
        "print(f'Mean Squared Error: {mse}')\n",
        "print(f'R^2 Score: {r2}')\n",
        "\n",
        "plt.scatter(y_test, y_pred)\n",
        "plt.xlabel('True Values')\n",
        "plt.ylabel('Predictions')\n",
        "plt.title('True vs Predicted Values')\n",
        "plt.plot([y.min(), y.max()], [y.min(), y.max()], 'k--', lw=2)\n",
        "plt.show()\n"
      ],
      "metadata": {
        "colab": {
          "base_uri": "https://localhost:8080/",
          "height": 507
        },
        "id": "6apVLKMr9VlU",
        "outputId": "1874b2d6-5080-4b20-f7c3-5110b29b37db"
      },
      "execution_count": null,
      "outputs": [
        {
          "output_type": "stream",
          "name": "stdout",
          "text": [
            "Mean Squared Error: 1.0939627099403335\n",
            "R^2 Score: 0.24914015530085976\n"
          ]
        },
        {
          "output_type": "display_data",
          "data": {
            "text/plain": [
              "<Figure size 640x480 with 1 Axes>"
            ],
            "image/png": "[encoded data removed]"
          },
          "metadata": {}
        }
      ]
    }
  ]
}