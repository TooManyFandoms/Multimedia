{
  "cells": [
    {
      "cell_type": "markdown",
      "metadata": {
        "id": "qpEBIyE90Jit"
      },
      "source": [
        "##Задача классификации"
      ]
    },
    {
      "cell_type": "code",
      "execution_count": 2,
      "metadata": {
        "colab": {
          "base_uri": "https://localhost:8080/"
        },
        "id": "SY4U8Dwq8wmi",
        "outputId": "8ffcb5b1-412f-4677-d294-687f4f1fe2d2"
      },
      "outputs": [
        {
          "name": "stdout",
          "output_type": "stream",
          "text": [
            "Warning: Looks like you're using an outdated `kagglehub` version (installed: 0.3.5), please consider upgrading to the latest version (0.3.6).\n",
            "Downloading from https://www.kaggle.com/api/v1/datasets/download/gkalpolukcu/knn-algorithm-dataset?dataset_version_number=1...\n"
          ]
        },
        {
          "name": "stderr",
          "output_type": "stream",
          "text": [
            "100%|██████████| 48.7k/48.7k [00:00<00:00, 35.6MB/s]"
          ]
        },
        {
          "name": "stdout",
          "output_type": "stream",
          "text": [
            "Extracting files...\n",
            "Path to dataset files: /root/.cache/kagglehub/datasets/gkalpolukcu/knn-algorithm-dataset/versions/1\n"
          ]
        },
        {
          "name": "stderr",
          "output_type": "stream",
          "text": [
            "\n"
          ]
        }
      ],
      "source": [
        "import kagglehub\n",
        "\n",
        "# Download latest version\n",
        "path = kagglehub.dataset_download(\"gkalpolukcu/knn-algorithm-dataset\")\n",
        "\n",
        "print(\"Path to dataset files:\", path)"
      ]
    },
    {
      "cell_type": "code",
      "execution_count": 3,
      "metadata": {
        "id": "FXpKBdYr9Bgk"
      },
      "outputs": [],
      "source": [
        "import pandas as pd\n",
        "data = pd.read_csv('/root/.cache/kagglehub/datasets/gkalpolukcu/knn-algorithm-dataset/versions/1/KNNAlgorithmDataset.csv')"
      ]
    },
    {
      "cell_type": "code",
      "execution_count": 4,
      "metadata": {
        "colab": {
          "base_uri": "https://localhost:8080/",
          "height": 683
        },
        "id": "DcbKp5dY9Ccd",
        "outputId": "c35ba8dd-77e8-4862-88d6-715c986f64e9"
      },
      "outputs": [
        {
          "name": "stdout",
          "output_type": "stream",
          "text": [
            "{'memory': None, 'steps': [('scaler', StandardScaler()), ('dtree', DecisionTreeClassifier(max_depth=4))], 'transform_input': None, 'verbose': False, 'scaler': StandardScaler(), 'dtree': DecisionTreeClassifier(max_depth=4), 'scaler__copy': True, 'scaler__with_mean': True, 'scaler__with_std': True, 'dtree__ccp_alpha': 0.0, 'dtree__class_weight': None, 'dtree__criterion': 'gini', 'dtree__max_depth': 4, 'dtree__max_features': None, 'dtree__max_leaf_nodes': None, 'dtree__min_impurity_decrease': 0.0, 'dtree__min_samples_leaf': 1, 'dtree__min_samples_split': 2, 'dtree__min_weight_fraction_leaf': 0.0, 'dtree__monotonic_cst': None, 'dtree__random_state': None, 'dtree__splitter': 'best'}\n"
          ]
        },
        {
          "data": {
            "image/png": "[encoded data removed]",
            "text/plain": [
              "<Figure size 640x480 with 2 Axes>"
            ]
          },
          "metadata": {},
          "output_type": "display_data"
        },
        {
          "name": "stdout",
          "output_type": "stream",
          "text": [
            "              precision    recall  f1-score   support\n",
            "\n",
            "           B       0.94      0.93      0.94        88\n",
            "           M       0.89      0.91      0.90        55\n",
            "\n",
            "    accuracy                           0.92       143\n",
            "   macro avg       0.92      0.92      0.92       143\n",
            "weighted avg       0.92      0.92      0.92       143\n",
            "\n",
            "ROC AUC Score: 0.9238636363636364\n"
          ]
        }
      ],
      "source": [
        "import numpy as np\n",
        "import pandas as pd\n",
        "import matplotlib.pyplot as plt\n",
        "import seaborn as sns\n",
        "from sklearn.preprocessing import StandardScaler\n",
        "from sklearn.model_selection import train_test_split, GridSearchCV\n",
        "from sklearn.tree import DecisionTreeClassifier\n",
        "from sklearn.metrics import confusion_matrix, classification_report, roc_auc_score, roc_curve\n",
        "from sklearn.pipeline import Pipeline\n",
        "\n",
        "data = data.drop(['id', 'Unnamed: 32'], axis=1)\n",
        "\n",
        "X = data.drop('diagnosis', axis=1)\n",
        "y = data['diagnosis']\n",
        "\n",
        "X_train, X_test, y_train, y_test = train_test_split(X, y, test_size=0.25, random_state=101)\n",
        "\n",
        "scaler = StandardScaler()\n",
        "dtree = DecisionTreeClassifier()\n",
        "pipl = Pipeline([('scaler', scaler), ('dtree', dtree)])\n",
        "\n",
        "param_grid = {'dtree__max_depth': np.arange(1, 21)}\n",
        "final_model = GridSearchCV(estimator=pipl, param_grid=param_grid, cv=5, scoring='accuracy')\n",
        "\n",
        "final_model.fit(X_train, y_train)\n",
        "\n",
        "print(final_model.best_estimator_.get_params())\n",
        "\n",
        "y_pred = final_model.predict(X_test)\n",
        "\n",
        "sns.heatmap(confusion_matrix(y_test, y_pred), annot=True, cmap='viridis')\n",
        "plt.xlabel('Predicted')\n",
        "plt.ylabel('True')\n",
        "plt.title('Confusion Matrix')\n",
        "plt.show()\n",
        "\n",
        "print(classification_report(y_test, y_pred))\n",
        "\n",
        "roc_auc = roc_auc_score(y_test, final_model.predict_proba(X_test)[:, 1])\n",
        "print(f'ROC AUC Score: {roc_auc}')"
      ]
    },
    {
      "cell_type": "markdown",
      "metadata": {
        "id": "NTxtbWy20eDA"
      },
      "source": [
        "###Улучшенный бейзлайн"
      ]
    },
    {
      "cell_type": "markdown",
      "metadata": {
        "id": "Jf-C9_MJ0h5D"
      },
      "source": [
        "В качестве улучшения ограничим глубину дерева, чтобы избежать переобучения, значения для min_samples_split и min_samples_leaf увеличены, чтобы предотвратить излишнюю тонкость в разбиении данных на более мелкие группы, используется параметр class_weight='balanced' для автоматической корректировки веса классов, что поможет при сильно несбалансированных данных."
      ]
    },
    {
      "cell_type": "code",
      "execution_count": 7,
      "metadata": {
        "colab": {
          "base_uri": "https://localhost:8080/",
          "height": 735
        },
        "id": "hZ6C-U1a-C2F",
        "outputId": "0a7ea98e-c962-4d9a-e834-e9191c6afc2e"
      },
      "outputs": [
        {
          "name": "stderr",
          "output_type": "stream",
          "text": [
            "/usr/local/lib/python3.10/dist-packages/sklearn/base.py:474: FutureWarning: `BaseEstimator._validate_data` is deprecated in 1.6 and will be removed in 1.7. Use `sklearn.utils.validation.validate_data` instead. This function becomes public and is part of the scikit-learn developer API.\n",
            "  warnings.warn(\n",
            "/usr/local/lib/python3.10/dist-packages/sklearn/utils/_tags.py:354: FutureWarning: The SMOTE or classes from which it inherits use `_get_tags` and `_more_tags`. Please define the `__sklearn_tags__` method, or inherit from `sklearn.base.BaseEstimator` and/or other appropriate mixins such as `sklearn.base.TransformerMixin`, `sklearn.base.ClassifierMixin`, `sklearn.base.RegressorMixin`, and `sklearn.base.OutlierMixin`. From scikit-learn 1.7, not defining `__sklearn_tags__` will raise an error.\n",
            "  warnings.warn(\n"
          ]
        },
        {
          "data": {
            "image/png": "[encoded data removed]",
            "text/plain": [
              "<Figure size 640x480 with 2 Axes>"
            ]
          },
          "metadata": {},
          "output_type": "display_data"
        },
        {
          "name": "stdout",
          "output_type": "stream",
          "text": [
            "              precision    recall  f1-score   support\n",
            "\n",
            "           B       1.00      0.91      0.96        93\n",
            "           M       0.91      1.00      0.96        86\n",
            "\n",
            "    accuracy                           0.96       179\n",
            "   macro avg       0.96      0.96      0.96       179\n",
            "weighted avg       0.96      0.96      0.96       179\n",
            "\n",
            "ROC AUC Score: 0.9382345586396599\n"
          ]
        }
      ],
      "source": [
        "import numpy as np\n",
        "import pandas as pd\n",
        "import matplotlib.pyplot as plt\n",
        "import seaborn as sns\n",
        "from sklearn.preprocessing import StandardScaler\n",
        "from sklearn.model_selection import train_test_split, GridSearchCV\n",
        "from sklearn.tree import DecisionTreeClassifier\n",
        "from sklearn.metrics import confusion_matrix, classification_report, roc_auc_score, roc_curve\n",
        "from sklearn.pipeline import Pipeline\n",
        "from imblearn.over_sampling import SMOTE\n",
        "\n",
        "data = pd.read_csv('/root/.cache/kagglehub/datasets/gkalpolukcu/knn-algorithm-dataset/versions/1/KNNAlgorithmDataset.csv')\n",
        "data = data.drop(['id', 'Unnamed: 32'], axis=1)\n",
        "\n",
        "X = data.drop('diagnosis', axis=1)\n",
        "y = data['diagnosis']\n",
        "\n",
        "smote = SMOTE(random_state=101)\n",
        "X_res, y_res = smote.fit_resample(X, y)\n",
        "\n",
        "X_train, X_test, y_train, y_test = train_test_split(X_res, y_res, test_size=0.25, random_state=101)\n",
        "\n",
        "scaler = StandardScaler()\n",
        "\n",
        "dtree = DecisionTreeClassifier(random_state=101)\n",
        "\n",
        "pipl = Pipeline([('scaler', scaler), ('dtree', dtree)])\n",
        "\n",
        "param_grid = {\n",
        "    'dtree__max_depth': np.arange(1, 11),\n",
        "    'dtree__min_samples_split': [5, 10, 20],\n",
        "    'dtree__min_samples_leaf': [2, 4, 6],\n",
        "    'dtree__criterion': ['gini', 'entropy'],\n",
        "    'dtree__class_weight': ['balanced', None]\n",
        "}\n",
        "\n",
        "final_model = GridSearchCV(estimator=pipl, param_grid=param_grid, cv=5, scoring='roc_auc', n_jobs=-1)\n",
        "\n",
        "final_model.fit(X_train, y_train)\n",
        "\n",
        "y_pred = final_model.predict(X_test)\n",
        "\n",
        "sns.heatmap(confusion_matrix(y_test, y_pred), annot=True, cmap='viridis')\n",
        "plt.xlabel('Predicted')\n",
        "plt.ylabel('True')\n",
        "plt.title('Confusion Matrix')\n",
        "plt.show()\n",
        "\n",
        "print(classification_report(y_test, y_pred))\n",
        "\n",
        "roc_auc = roc_auc_score(y_test, final_model.predict_proba(X_test)[:, 1])\n",
        "print(f'ROC AUC Score: {roc_auc}')\n"
      ]
    },
    {
      "cell_type": "markdown",
      "metadata": {
        "id": "qa83o0nc1M6n"
      },
      "source": [
        "Данные изменения повысили как точность, так и ROC AUC score."
      ]
    },
    {
      "cell_type": "markdown",
      "metadata": {
        "id": "hgrhjwc71Xr1"
      },
      "source": [
        "##Задача регрессии"
      ]
    },
    {
      "cell_type": "code",
      "execution_count": 8,
      "metadata": {
        "colab": {
          "base_uri": "https://localhost:8080/"
        },
        "id": "xhK1dOAa1dka",
        "outputId": "f76dd1e4-07a2-4016-fa91-dc6f003a0e16"
      },
      "outputs": [
        {
          "name": "stdout",
          "output_type": "stream",
          "text": [
            "Warning: Looks like you're using an outdated `kagglehub` version (installed: 0.3.5), please consider upgrading to the latest version (0.3.6).\n",
            "Downloading from https://www.kaggle.com/api/v1/datasets/download/thedevastator/netflix-imdb-scores?dataset_version_number=2...\n"
          ]
        },
        {
          "name": "stderr",
          "output_type": "stream",
          "text": [
            "100%|██████████| 699k/699k [00:00<00:00, 59.0MB/s]"
          ]
        },
        {
          "name": "stdout",
          "output_type": "stream",
          "text": [
            "Extracting files...\n",
            "Path to dataset files: /root/.cache/kagglehub/datasets/thedevastator/netflix-imdb-scores/versions/2\n"
          ]
        },
        {
          "name": "stderr",
          "output_type": "stream",
          "text": [
            "\n"
          ]
        }
      ],
      "source": [
        "import kagglehub\n",
        "\n",
        "# Download latest version\n",
        "path = kagglehub.dataset_download(\"thedevastator/netflix-imdb-scores\")\n",
        "\n",
        "print(\"Path to dataset files:\", path)"
      ]
    },
    {
      "cell_type": "code",
      "execution_count": 10,
      "metadata": {
        "colab": {
          "base_uri": "https://localhost:8080/"
        },
        "id": "gbp8EGti13TJ",
        "outputId": "4a9121e3-9acb-475d-a27b-f82ca8023bf9"
      },
      "outputs": [
        {
          "name": "stdout",
          "output_type": "stream",
          "text": [
            "Mean Squared Error: 1.1518103870788907\n",
            "Mean Absolute Error: 0.7967894467555352\n",
            "R² Score: 0.19111674504317488\n"
          ]
        }
      ],
      "source": [
        "import pandas as pd\n",
        "from sklearn.model_selection import train_test_split\n",
        "from sklearn.tree import DecisionTreeRegressor\n",
        "from sklearn.metrics import mean_squared_error, mean_absolute_error, r2_score\n",
        "\n",
        "data = pd.read_csv('/root/.cache/kagglehub/datasets/thedevastator/netflix-imdb-scores/versions/2/Netflix TV Shows and Movies.csv')\n",
        "\n",
        "data['imdb_votes'] = data['imdb_votes'].fillna(data['imdb_votes'].mean())\n",
        "data['age_certification'] = data['age_certification'].fillna(data['age_certification'].mode()[0])\n",
        "\n",
        "X = data[['release_year', 'runtime', 'imdb_votes']]\n",
        "y = data['imdb_score']\n",
        "\n",
        "X_train, X_test, y_train, y_test = train_test_split(X, y, test_size=0.2, random_state=42)\n",
        "\n",
        "dt_regressor = DecisionTreeRegressor(max_depth=5, min_samples_split=10, min_samples_leaf=5, random_state=42)\n",
        "\n",
        "dt_regressor.fit(X_train, y_train)\n",
        "\n",
        "y_pred = dt_regressor.predict(X_test)\n",
        "\n",
        "mse = mean_squared_error(y_test, y_pred)\n",
        "mae = mean_absolute_error(y_test, y_pred)\n",
        "r2 = r2_score(y_test, y_pred)\n",
        "\n",
        "print(f'Mean Squared Error: {mse}')\n",
        "print(f'Mean Absolute Error: {mae}')\n",
        "print(f'R² Score: {r2}')"
      ]
    },
    {
      "cell_type": "markdown",
      "metadata": {
        "id": "kuRYJIcP4mAG"
      },
      "source": [
        "###Улучшенный бейзлайн"
      ]
    },
    {
      "cell_type": "markdown",
      "metadata": {
        "id": "E4rJj68k4pG6"
      },
      "source": [
        "В качестве улучшений применим нормализацию для признаков с различными шкалами (release_year, runtime, imdb_votes), настроим гиперпараметры модели с помощью GridSearchCV, добавим кросс-валидацию для оценки модели."
      ]
    },
    {
      "cell_type": "code",
      "execution_count": 18,
      "metadata": {
        "colab": {
          "base_uri": "https://localhost:8080/",
          "height": 559
        },
        "id": "Pzjiu3iF2Rm8",
        "outputId": "0a5f347f-f640-47e9-b2a4-4e7aaf8f297b"
      },
      "outputs": [
        {
          "name": "stdout",
          "output_type": "stream",
          "text": [
            "Best parameters from GridSearchCV: {'max_depth': 7, 'min_samples_leaf': 16, 'min_samples_split': 2}\n",
            "Best cross-validation score (MSE): 1.0496268183617128\n",
            "Mean Squared Error: 1.1176448086054127\n",
            "Mean Absolute Error: 0.7837545426448432\n",
            "R² Score: 0.21511024660656797\n"
          ]
        },
        {
          "data": {
            "image/png": "[encoded data removed]",
            "text/plain": [
              "<Figure size 640x480 with 1 Axes>"
            ]
          },
          "metadata": {},
          "output_type": "display_data"
        }
      ],
      "source": [
        "import pandas as pd\n",
        "from sklearn.model_selection import train_test_split, GridSearchCV, cross_val_score\n",
        "from sklearn.tree import DecisionTreeRegressor\n",
        "from sklearn.metrics import mean_squared_error, mean_absolute_error, r2_score\n",
        "from sklearn.preprocessing import StandardScaler\n",
        "import matplotlib.pyplot as plt\n",
        "\n",
        "data = pd.read_csv('/root/.cache/kagglehub/datasets/thedevastator/netflix-imdb-scores/versions/2/Netflix TV Shows and Movies.csv')\n",
        "\n",
        "data['imdb_votes'] = data['imdb_votes'].fillna(data['imdb_votes'].mean())\n",
        "data['age_certification'] = data['age_certification'].fillna(data['age_certification'].mode()[0])\n",
        "\n",
        "X = data[['release_year', 'runtime', 'imdb_votes', 'type', 'age_certification']]\n",
        "y = data['imdb_score']\n",
        "\n",
        "X_encoded = pd.get_dummies(X, columns=['type', 'age_certification'])\n",
        "\n",
        "scaler = StandardScaler()\n",
        "X_encoded[['release_year', 'runtime', 'imdb_votes']] = scaler.fit_transform(X_encoded[['release_year', 'runtime', 'imdb_votes']])\n",
        "\n",
        "X_train, X_test, y_train, y_test = train_test_split(X_encoded, y, test_size=0.2, random_state=42)\n",
        "\n",
        "dt_regressor = DecisionTreeRegressor(random_state=42)\n",
        "\n",
        "param_grid = {\n",
        "    'max_depth': [3, 5, 7, 10, 8, 9],\n",
        "    'min_samples_split': [2, 3, 4, 5, 10],\n",
        "    'min_samples_leaf': [1, 5, 10, 15, 20, 16, 17, 18]\n",
        "}\n",
        "\n",
        "grid_search = GridSearchCV(estimator=dt_regressor, param_grid=param_grid, cv=5, scoring='neg_mean_squared_error')\n",
        "grid_search.fit(X_train, y_train)\n",
        "\n",
        "print(f'Best parameters from GridSearchCV: {grid_search.best_params_}')\n",
        "print(f'Best cross-validation score (MSE): {-grid_search.best_score_}')\n",
        "\n",
        "best_dt_regressor = grid_search.best_estimator_\n",
        "best_dt_regressor.fit(X_train, y_train)\n",
        "\n",
        "y_pred = best_dt_regressor.predict(X_test)\n",
        "\n",
        "mse = mean_squared_error(y_test, y_pred)\n",
        "mae = mean_absolute_error(y_test, y_pred)\n",
        "r2 = r2_score(y_test, y_pred)\n",
        "\n",
        "print(f'Mean Squared Error: {mse}')\n",
        "print(f'Mean Absolute Error: {mae}')\n",
        "print(f'R² Score: {r2}')\n",
        "\n",
        "mse_scores = cross_val_score(best_dt_regressor, X_encoded, y, cv=5, scoring='neg_mean_squared_error')\n",
        "\n",
        "feature_importances = best_dt_regressor.feature_importances_\n",
        "plt.barh(X_encoded.columns, feature_importances)\n",
        "plt.xlabel('Feature Importance')\n",
        "plt.title('Feature Importance of Decision Tree')\n",
        "plt.show()"
      ]
    },
    {
      "cell_type": "markdown",
      "metadata": {
        "id": "Khwx90KA6UaC"
      },
      "source": [
        "Результаты улучшились, но все еще не являются идеальными. Но стало понятно, что одно из главных улучшений это добавление типа шоу в признаки."
      ]
    },
    {
      "cell_type": "markdown",
      "metadata": {
        "id": "J-vRq44068T2"
      },
      "source": [
        "##Самостоятельная реализация"
      ]
    },
    {
      "cell_type": "code",
      "execution_count": 19,
      "metadata": {
        "colab": {
          "base_uri": "https://localhost:8080/",
          "height": 646
        },
        "id": "p6MzMmcZ7ADz",
        "outputId": "957b3e00-4751-487d-fdb1-e4e09b8a273b"
      },
      "outputs": [
        {
          "data": {
            "image/png": "[encoded data removed]",
            "text/plain": [
              "<Figure size 640x480 with 2 Axes>"
            ]
          },
          "metadata": {},
          "output_type": "display_data"
        },
        {
          "name": "stdout",
          "output_type": "stream",
          "text": [
            "              precision    recall  f1-score   support\n",
            "\n",
            "           0       0.93      0.92      0.93        88\n",
            "           1       0.88      0.89      0.88        55\n",
            "\n",
            "    accuracy                           0.91       143\n",
            "   macro avg       0.90      0.91      0.90       143\n",
            "weighted avg       0.91      0.91      0.91       143\n",
            "\n",
            "ROC AUC Score: 0.9056818181818181\n"
          ]
        }
      ],
      "source": [
        "import numpy as np\n",
        "import pandas as pd\n",
        "import matplotlib.pyplot as plt\n",
        "import seaborn as sns\n",
        "from sklearn.preprocessing import StandardScaler\n",
        "from sklearn.model_selection import train_test_split, GridSearchCV\n",
        "from sklearn.metrics import confusion_matrix, classification_report, roc_auc_score, roc_curve\n",
        "from sklearn.pipeline import Pipeline\n",
        "\n",
        "\n",
        "class DecisionTree:\n",
        "    def __init__(self, max_depth=None):\n",
        "        self.max_depth = max_depth\n",
        "        self.tree = None\n",
        "\n",
        "    def fit(self, X, y):\n",
        "        self.tree = self._build_tree(X, y)\n",
        "\n",
        "    def _build_tree(self, X, y, depth=0):\n",
        "        if len(set(y)) == 1:\n",
        "            return y[0]\n",
        "\n",
        "        if self.max_depth is not None and depth == self.max_depth:\n",
        "            return self._majority_class(y)\n",
        "\n",
        "        best_split = self._best_split(X, y)\n",
        "        if best_split is None:\n",
        "            return self._majority_class(y)\n",
        "\n",
        "        left_X, left_y, right_X, right_y = self._split(X, y, best_split)\n",
        "        left_branch = self._build_tree(left_X, left_y, depth + 1)\n",
        "        right_branch = self._build_tree(right_X, right_y, depth + 1)\n",
        "\n",
        "        return {\n",
        "            'split': best_split,\n",
        "            'left': left_branch,\n",
        "            'right': right_branch\n",
        "        }\n",
        "\n",
        "    def _best_split(self, X, y):\n",
        "        best_gini = float('inf')\n",
        "        best_split = None\n",
        "        n_features = X.shape[1]\n",
        "\n",
        "        for feature_index in range(n_features):\n",
        "            feature_values = X[:, feature_index]\n",
        "            thresholds = np.unique(feature_values)\n",
        "\n",
        "            for threshold in thresholds:\n",
        "                left_indices = feature_values <= threshold\n",
        "                right_indices = feature_values > threshold\n",
        "\n",
        "                left_y = y[left_indices]\n",
        "                right_y = y[right_indices]\n",
        "\n",
        "                gini = self._gini_index(left_y, right_y)\n",
        "                if gini < best_gini:\n",
        "                    best_gini = gini\n",
        "                    best_split = (feature_index, threshold)\n",
        "\n",
        "        return best_split\n",
        "\n",
        "    def _gini_index(self, left_y, right_y):\n",
        "        left_size = len(left_y)\n",
        "        right_size = len(right_y)\n",
        "        total_size = left_size + right_size\n",
        "\n",
        "        left_gini = 1 - sum([(np.sum(left_y == c) / left_size) ** 2 for c in np.unique(left_y)])\n",
        "        right_gini = 1 - sum([(np.sum(right_y == c) / right_size) ** 2 for c in np.unique(right_y)])\n",
        "\n",
        "        return (left_size / total_size) * left_gini + (right_size / total_size) * right_gini\n",
        "\n",
        "    def _split(self, X, y, split):\n",
        "        feature_index, threshold = split\n",
        "        feature_values = X[:, feature_index]\n",
        "\n",
        "        left_indices = feature_values <= threshold\n",
        "        right_indices = feature_values > threshold\n",
        "\n",
        "        left_X, left_y = X[left_indices], y[left_indices]\n",
        "        right_X, right_y = X[right_indices], y[right_indices]\n",
        "\n",
        "        return left_X, left_y, right_X, right_y\n",
        "\n",
        "    def _majority_class(self, y):\n",
        "        return np.bincount(y).argmax()\n",
        "\n",
        "    def predict(self, X):\n",
        "        return np.array([self._predict_row(x, self.tree) for x in X])\n",
        "\n",
        "    def _predict_row(self, x, tree):\n",
        "        if isinstance(tree, dict):\n",
        "            feature_index, threshold = tree['split']\n",
        "            if x[feature_index] <= threshold:\n",
        "                return self._predict_row(x, tree['left'])\n",
        "            else:\n",
        "                return self._predict_row(x, tree['right'])\n",
        "        else:\n",
        "            return tree\n",
        "\n",
        "\n",
        "data = pd.read_csv('/root/.cache/kagglehub/datasets/gkalpolukcu/knn-algorithm-dataset/versions/1/KNNAlgorithmDataset.csv')\n",
        "data = data.drop(['id', 'Unnamed: 32'], axis=1)\n",
        "\n",
        "X = data.drop('diagnosis', axis=1).values\n",
        "y = np.where(data['diagnosis'] == 'M', 1, 0)\n",
        "\n",
        "X_train, X_test, y_train, y_test = train_test_split(X, y, test_size=0.25, random_state=101)\n",
        "\n",
        "scaler = StandardScaler()\n",
        "X_train = scaler.fit_transform(X_train)\n",
        "X_test = scaler.transform(X_test)\n",
        "\n",
        "tree = DecisionTree(max_depth=5)\n",
        "tree.fit(X_train, y_train)\n",
        "\n",
        "y_pred = tree.predict(X_test)\n",
        "\n",
        "sns.heatmap(confusion_matrix(y_test, y_pred), annot=True, cmap='viridis')\n",
        "plt.xlabel('Predicted')\n",
        "plt.ylabel('True')\n",
        "plt.title('Confusion Matrix')\n",
        "plt.show()\n",
        "\n",
        "print(classification_report(y_test, y_pred))\n",
        "\n",
        "roc_auc = roc_auc_score(y_test, y_pred)\n",
        "print(f'ROC AUC Score: {roc_auc}')\n"
      ]
    },
    {
      "cell_type": "markdown",
      "metadata": {
        "id": "HGUPlaqg8crG"
      },
      "source": [
        "###Улучшенный бейзлайн"
      ]
    },
    {
      "cell_type": "code",
      "execution_count": 23,
      "metadata": {
        "colab": {
          "base_uri": "https://localhost:8080/",
          "height": 646
        },
        "id": "UxMImRy88RIy",
        "outputId": "57fcebc6-e061-44d0-c899-39f51bfaef65"
      },
      "outputs": [
        {
          "data": {
            "image/png": "[encoded data removed]",
            "text/plain": [
              "<Figure size 640x480 with 2 Axes>"
            ]
          },
          "metadata": {},
          "output_type": "display_data"
        },
        {
          "name": "stdout",
          "output_type": "stream",
          "text": [
            "              precision    recall  f1-score   support\n",
            "\n",
            "           0       0.96      0.92      0.94        88\n",
            "           1       0.88      0.95      0.91        55\n",
            "\n",
            "    accuracy                           0.93       143\n",
            "   macro avg       0.92      0.93      0.93       143\n",
            "weighted avg       0.93      0.93      0.93       143\n",
            "\n",
            "ROC AUC Score: 0.9329545454545454\n"
          ]
        }
      ],
      "source": [
        "import numpy as np\n",
        "import pandas as pd\n",
        "import matplotlib.pyplot as plt\n",
        "import seaborn as sns\n",
        "from sklearn.preprocessing import StandardScaler\n",
        "from sklearn.model_selection import train_test_split\n",
        "from sklearn.metrics import confusion_matrix, classification_report, roc_auc_score\n",
        "\n",
        "class DecisionTree:\n",
        "    def __init__(self, max_depth=None, min_samples_split=2, min_samples_leaf=1, class_weight=None):\n",
        "        self.max_depth = max_depth\n",
        "        self.min_samples_split = min_samples_split\n",
        "        self.min_samples_leaf = min_samples_leaf\n",
        "        self.class_weight = class_weight\n",
        "        self.tree = None\n",
        "        self.class_weights = None\n",
        "\n",
        "    def fit(self, X, y):\n",
        "        if self.class_weight == 'balanced':\n",
        "            self.class_weights = self._compute_class_weights(y)\n",
        "        self.tree = self._build_tree(X, y)\n",
        "\n",
        "    def _compute_class_weights(self, y):\n",
        "        class_counts = np.bincount(y)\n",
        "        total_samples = len(y)\n",
        "        class_weights = total_samples / (len(np.unique(y)) * class_counts)\n",
        "        return dict(zip(np.unique(y), class_weights))\n",
        "\n",
        "    def _build_tree(self, X, y, depth=0):\n",
        "        if len(set(y)) == 1:\n",
        "            return y[0]\n",
        "\n",
        "        if self.max_depth is not None and depth == self.max_depth:\n",
        "            return self._majority_class(y)\n",
        "\n",
        "        if len(y) < self.min_samples_split:\n",
        "            return self._majority_class(y)\n",
        "\n",
        "        best_split = self._best_split(X, y)\n",
        "        if best_split is None:\n",
        "            return self._majority_class(y)\n",
        "\n",
        "        left_X, left_y, right_X, right_y = self._split(X, y, best_split)\n",
        "        left_branch = self._build_tree(left_X, left_y, depth + 1)\n",
        "        right_branch = self._build_tree(right_X, right_y, depth + 1)\n",
        "\n",
        "        return {\n",
        "            'split': best_split,\n",
        "            'left': left_branch,\n",
        "            'right': right_branch\n",
        "        }\n",
        "\n",
        "    def _best_split(self, X, y):\n",
        "        best_gini = float('inf')\n",
        "        best_split = None\n",
        "        n_features = X.shape[1]\n",
        "\n",
        "        for feature_index in range(n_features):\n",
        "            feature_values = X[:, feature_index]\n",
        "            thresholds = np.unique(feature_values)\n",
        "\n",
        "            for threshold in thresholds:\n",
        "                left_indices = feature_values <= threshold\n",
        "                right_indices = feature_values > threshold\n",
        "\n",
        "                left_y = y[left_indices]\n",
        "                right_y = y[right_indices]\n",
        "\n",
        "                if len(left_y) < self.min_samples_leaf or len(right_y) < self.min_samples_leaf:\n",
        "                    continue\n",
        "\n",
        "                gini = self._gini_index(left_y, right_y)\n",
        "                if gini < best_gini:\n",
        "                    best_gini = gini\n",
        "                    best_split = (feature_index, threshold)\n",
        "\n",
        "        return best_split\n",
        "\n",
        "    def _gini_index(self, left_y, right_y):\n",
        "        left_size = len(left_y)\n",
        "        right_size = len(right_y)\n",
        "        total_size = left_size + right_size\n",
        "\n",
        "        left_gini = 1 - sum([(np.sum(left_y == c) / left_size) ** 2 for c in np.unique(left_y)])\n",
        "        right_gini = 1 - sum([(np.sum(right_y == c) / right_size) ** 2 for c in np.unique(right_y)])\n",
        "\n",
        "        return (left_size / total_size) * left_gini + (right_size / total_size) * right_gini\n",
        "\n",
        "    def _split(self, X, y, split):\n",
        "        feature_index, threshold = split\n",
        "        feature_values = X[:, feature_index]\n",
        "\n",
        "        left_indices = feature_values <= threshold\n",
        "        right_indices = feature_values > threshold\n",
        "\n",
        "        left_X, left_y = X[left_indices], y[left_indices]\n",
        "        right_X, right_y = X[right_indices], y[right_indices]\n",
        "\n",
        "        return left_X, left_y, right_X, right_y\n",
        "\n",
        "    def _majority_class(self, y):\n",
        "        return np.bincount(y).argmax()\n",
        "\n",
        "    def predict(self, X):\n",
        "        return np.array([self._predict_row(x, self.tree) for x in X])\n",
        "\n",
        "    def _predict_row(self, x, tree):\n",
        "        if isinstance(tree, dict):\n",
        "            feature_index, threshold = tree['split']\n",
        "            if x[feature_index] <= threshold:\n",
        "                return self._predict_row(x, tree['left'])\n",
        "            else:\n",
        "                return self._predict_row(x, tree['right'])\n",
        "        else:\n",
        "            return tree\n",
        "\n",
        "\n",
        "data = pd.read_csv('/root/.cache/kagglehub/datasets/gkalpolukcu/knn-algorithm-dataset/versions/1/KNNAlgorithmDataset.csv')\n",
        "data = data.drop(['id', 'Unnamed: 32'], axis=1)\n",
        "\n",
        "X = data.drop('diagnosis', axis=1).values\n",
        "y = np.where(data['diagnosis'] == 'M', 1, 0)\n",
        "\n",
        "X_train, X_test, y_train, y_test = train_test_split(X, y, test_size=0.25, random_state=101)\n",
        "\n",
        "scaler = StandardScaler()\n",
        "X_train = scaler.fit_transform(X_train)\n",
        "X_test = scaler.transform(X_test)\n",
        "\n",
        "tree = DecisionTree(\n",
        "    max_depth=5,\n",
        "    min_samples_split=10,\n",
        "    min_samples_leaf=5,\n",
        "    class_weight='balanced'\n",
        ")\n",
        "\n",
        "tree.fit(X_train, y_train)\n",
        "\n",
        "y_pred = tree.predict(X_test)\n",
        "\n",
        "sns.heatmap(confusion_matrix(y_test, y_pred), annot=True, cmap='viridis')\n",
        "plt.xlabel('Predicted')\n",
        "plt.ylabel('True')\n",
        "plt.title('Confusion Matrix')\n",
        "plt.show()\n",
        "\n",
        "print(classification_report(y_test, y_pred))\n",
        "\n",
        "roc_auc = roc_auc_score(y_test, y_pred)\n",
        "print(f'ROC AUC Score: {roc_auc}')\n"
      ]
    },
    {
      "cell_type": "code",
      "execution_count": 24,
      "metadata": {
        "colab": {
          "base_uri": "https://localhost:8080/"
        },
        "id": "GkbuH78f8ViM",
        "outputId": "ede36691-168e-495e-d470-b34be291573e"
      },
      "outputs": [
        {
          "name": "stdout",
          "output_type": "stream",
          "text": [
            "Mean Squared Error: 1.1527020345475867\n",
            "Mean Absolute Error: 0.7975390594175519\n",
            "R² Score: 0.190490566711356\n"
          ]
        }
      ],
      "source": [
        "import pandas as pd\n",
        "import numpy as np\n",
        "from sklearn.model_selection import train_test_split\n",
        "from sklearn.metrics import mean_squared_error, mean_absolute_error, r2_score\n",
        "\n",
        "class DecisionTreeRegressorCustom:\n",
        "    def __init__(self, max_depth=None, min_samples_split=2, min_samples_leaf=1):\n",
        "        self.max_depth = max_depth\n",
        "        self.min_samples_split = min_samples_split\n",
        "        self.min_samples_leaf = min_samples_leaf\n",
        "        self.tree = None\n",
        "\n",
        "    def fit(self, X, y):\n",
        "        self.tree = self._build_tree(X, y)\n",
        "\n",
        "    def predict(self, X):\n",
        "        return [self._predict_node(x, self.tree) for x in X]\n",
        "\n",
        "    def _build_tree(self, X, y, depth=0):\n",
        "        n_samples, n_features = X.shape\n",
        "        if n_samples >= self.min_samples_split and depth < self.max_depth:\n",
        "            best_split = self._best_split(X, y, n_features)\n",
        "            if best_split is not None:\n",
        "                left_tree = self._build_tree(*best_split['left'], depth + 1)\n",
        "                right_tree = self._build_tree(*best_split['right'], depth + 1)\n",
        "                return {'feature': best_split['feature'],\n",
        "                        'threshold': best_split['threshold'],\n",
        "                        'left': left_tree,\n",
        "                        'right': right_tree}\n",
        "        return np.mean(y)\n",
        "\n",
        "    def _best_split(self, X, y, n_features):\n",
        "        best_split = None\n",
        "        min_mse = float('inf')\n",
        "\n",
        "        for feature in range(n_features):\n",
        "            possible_thresholds = np.unique(X[:, feature])\n",
        "            for threshold in possible_thresholds:\n",
        "                left_mask = X[:, feature] <= threshold\n",
        "                right_mask = ~left_mask\n",
        "                left_y, right_y = y[left_mask], y[right_mask]\n",
        "\n",
        "                if len(left_y) >= self.min_samples_leaf and len(right_y) >= self.min_samples_leaf:\n",
        "                    mse = self._calculate_mse(left_y, right_y)\n",
        "                    if mse < min_mse:\n",
        "                        min_mse = mse\n",
        "                        best_split = {\n",
        "                            'feature': feature,\n",
        "                            'threshold': threshold,\n",
        "                            'left': (X[left_mask], left_y),\n",
        "                            'right': (X[right_mask], right_y)\n",
        "                        }\n",
        "        return best_split\n",
        "\n",
        "    def _calculate_mse(self, left_y, right_y):\n",
        "        left_mean = np.mean(left_y)\n",
        "        right_mean = np.mean(right_y)\n",
        "        left_mse = np.mean((left_y - left_mean) ** 2)\n",
        "        right_mse = np.mean((right_y - right_mean) ** 2)\n",
        "        return (len(left_y) * left_mse + len(right_y) * right_mse) / (len(left_y) + len(right_y))\n",
        "\n",
        "    def _predict_node(self, x, node):\n",
        "        if isinstance(node, dict):\n",
        "            if x[node['feature']] <= node['threshold']:\n",
        "                return self._predict_node(x, node['left'])\n",
        "            else:\n",
        "                return self._predict_node(x, node['right'])\n",
        "        return node\n",
        "\n",
        "\n",
        "data = pd.read_csv('/root/.cache/kagglehub/datasets/thedevastator/netflix-imdb-scores/versions/2/Netflix TV Shows and Movies.csv')\n",
        "\n",
        "data['imdb_votes'] = data['imdb_votes'].fillna(data['imdb_votes'].mean())\n",
        "data['age_certification'] = data['age_certification'].fillna(data['age_certification'].mode()[0])\n",
        "\n",
        "X = data[['release_year', 'runtime', 'imdb_votes']].values\n",
        "y = data['imdb_score'].values\n",
        "\n",
        "X_train, X_test, y_train, y_test = train_test_split(X, y, test_size=0.2, random_state=42)\n",
        "\n",
        "dt_regressor = DecisionTreeRegressorCustom(max_depth=5, min_samples_split=10, min_samples_leaf=5)\n",
        "dt_regressor.fit(X_train, y_train)\n",
        "\n",
        "y_pred = dt_regressor.predict(X_test)\n",
        "\n",
        "mse = mean_squared_error(y_test, y_pred)\n",
        "mae = mean_absolute_error(y_test, y_pred)\n",
        "r2 = r2_score(y_test, y_pred)\n",
        "\n",
        "print(f'Mean Squared Error: {mse}')\n",
        "print(f'Mean Absolute Error: {mae}')\n",
        "print(f'R² Score: {r2}')\n"
      ]
    },
    {
      "cell_type": "markdown",
      "metadata": {
        "id": "U_f6k-qa9YeI"
      },
      "source": [
        "###Улучшенный бейзлайн"
      ]
    },
    {
      "cell_type": "code",
      "execution_count": 27,
      "metadata": {
        "colab": {
          "base_uri": "https://localhost:8080/"
        },
        "id": "WdoxHB5J9fny",
        "outputId": "2209c912-0e3b-4a3a-f9c3-cfe8397617a1"
      },
      "outputs": [
        {
          "name": "stdout",
          "output_type": "stream",
          "text": [
            "Mean Squared Error: 1.1176448086054127\n",
            "Mean Absolute Error: 0.7837545426448432\n",
            "R² Score: 0.21511024660656797\n",
            "Cross-validated MSE: 1.1262753622837383\n"
          ]
        }
      ],
      "source": [
        "import pandas as pd\n",
        "import numpy as np\n",
        "from sklearn.model_selection import train_test_split, GridSearchCV, cross_val_score\n",
        "from sklearn.metrics import mean_squared_error, mean_absolute_error, r2_score\n",
        "from sklearn.preprocessing import StandardScaler\n",
        "from sklearn.tree import DecisionTreeRegressor\n",
        "\n",
        "data = pd.read_csv('/root/.cache/kagglehub/datasets/thedevastator/netflix-imdb-scores/versions/2/Netflix TV Shows and Movies.csv')\n",
        "\n",
        "data['imdb_votes'] = data['imdb_votes'].fillna(data['imdb_votes'].mean())\n",
        "data['age_certification'] = data['age_certification'].fillna(data['age_certification'].mode()[0])\n",
        "\n",
        "X = data[['release_year', 'runtime', 'imdb_votes', 'type', 'age_certification']]\n",
        "y = data['imdb_score']\n",
        "\n",
        "X_encoded = pd.get_dummies(X, columns=['type', 'age_certification'])\n",
        "\n",
        "scaler = StandardScaler()\n",
        "X_scaled = scaler.fit_transform(X_encoded)\n",
        "\n",
        "X_train, X_test, y_train, y_test = train_test_split(X_scaled, y, test_size=0.2, random_state=42)\n",
        "\n",
        "dt_regressor = DecisionTreeRegressor(random_state=42)\n",
        "\n",
        "param_grid = {\n",
        "    'max_depth': [7],\n",
        "    'min_samples_leaf': [16],\n",
        "    'min_samples_split': [2]\n",
        "}\n",
        "\n",
        "grid_search = GridSearchCV(estimator=dt_regressor, param_grid=param_grid, cv=5, scoring='neg_mean_squared_error')\n",
        "\n",
        "grid_search.fit(X_train, y_train)\n",
        "\n",
        "best_dt_regressor = grid_search.best_estimator_\n",
        "\n",
        "y_pred = best_dt_regressor.predict(X_test)\n",
        "\n",
        "mse = mean_squared_error(y_test, y_pred)\n",
        "mae = mean_absolute_error(y_test, y_pred)\n",
        "r2 = r2_score(y_test, y_pred)\n",
        "\n",
        "print(f'Mean Squared Error: {mse}')\n",
        "print(f'Mean Absolute Error: {mae}')\n",
        "print(f'R² Score: {r2}')\n",
        "\n",
        "cv_scores = cross_val_score(best_dt_regressor, X_scaled, y, cv=5, scoring='neg_mean_squared_error')\n",
        "print(f'Cross-validated MSE: {-cv_scores.mean()}')\n"
      ]
    },
    {
      "cell_type": "markdown",
      "metadata": {
        "id": "XWa9wL24-0iM"
      },
      "source": [
        "В целом, улучшения актуальные для встроенных моделей актуальны и для собственной реализации, но в целом точность встроенных выше."
      ]
    }
  ],
  "metadata": {
    "colab": {
      "provenance": []
    },
    "kernelspec": {
      "display_name": "Python 3",
      "name": "python3"
    },
    "language_info": {
      "name": "python"
    }
  },
  "nbformat": 4,
  "nbformat_minor": 0
}
